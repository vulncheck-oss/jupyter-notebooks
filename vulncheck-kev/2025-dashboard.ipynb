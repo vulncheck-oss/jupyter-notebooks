{
 "cells": [
  {
   "cell_type": "markdown",
   "metadata": {},
   "source": [
    "# Comparing VulnCheck Known Exploited Vulnerabilties & CISA KEV\n",
    "\n",
    "## Initial Configuration"
   ]
  },
  {
   "cell_type": "code",
   "execution_count": 14,
   "metadata": {
    "execution": {
     "iopub.execute_input": "2025-04-25T12:09:06.917554Z",
     "iopub.status.busy": "2025-04-25T12:09:06.917117Z",
     "iopub.status.idle": "2025-04-25T12:09:15.646894Z",
     "shell.execute_reply": "2025-04-25T12:09:15.646315Z"
    }
   },
   "outputs": [],
   "source": [
    "import os\n",
    "import vulncheck_sdk\n",
    "import matplotlib.pyplot as plt\n",
    "import pandas as pd\n",
    "import plotly.express as px\n",
    "import calplot\n",
    "\n",
    "DEFAULT_HOST = \"https://api.vulncheck.com\"\n",
    "DEFAULT_API = DEFAULT_HOST + \"/v3\"\n",
    "# TOKEN = \"INSERT_TOKEN\"  # Replace with your actual API token\n",
    "TOKEN = os.environ[\"VULNCHECK_API_TOKEN\"]\n",
    "YEAR = 2025\n",
    "\n",
    "# Configure the VulnCheck API client\n",
    "configuration = vulncheck_sdk.Configuration(host=DEFAULT_API)\n",
    "configuration.api_key[\"Bearer\"] = TOKEN"
   ]
  },
  {
   "cell_type": "markdown",
   "metadata": {},
   "source": [
    "## Pull Data"
   ]
  },
  {
   "cell_type": "code",
   "execution_count": 18,
   "metadata": {
    "execution": {
     "iopub.execute_input": "2025-04-25T12:09:15.649119Z",
     "iopub.status.busy": "2025-04-25T12:09:15.648852Z",
     "iopub.status.idle": "2025-04-25T12:09:20.316926Z",
     "shell.execute_reply": "2025-04-25T12:09:20.316362Z"
    }
   },
   "outputs": [],
   "source": [
    "with vulncheck_sdk.ApiClient(configuration) as api_client:\n",
    "    indices_client = vulncheck_sdk.IndicesApi(api_client)\n",
    "\n",
    "    limit = 200\n",
    "\n",
    "    # Initialize lists to store vendor and CVE data\n",
    "    cve = []\n",
    "    vendor = []\n",
    "    product = []\n",
    "    ransomware = []\n",
    "    date_added = []\n",
    "    cisa_date_added = []\n",
    "\n",
    "    # Make the initial request to start pagination\n",
    "    api_response = indices_client.index_vulncheck_kev_get(start_cursor=\"true\", limit=limit)\n",
    "\n",
    "    # Process the first page of results\n",
    "    for entry in api_response.data:\n",
    "        # Directly access the first element of the list\n",
    "        cve.append(entry.cve[0])  # Since there is always one CVE in the list\n",
    "        vendor.append(entry.vendor_project)\n",
    "        product.append(entry.product)\n",
    "        ransomware.append(entry.known_ransomware_campaign_use)\n",
    "        date_added.append(entry.date_added[:10])\n",
    "\n",
    "        # Handle cisa_date_added when it's None or has a date\n",
    "        if entry.cisa_date_added is None:\n",
    "            cisa_date_added.append(\"none\")\n",
    "        else:\n",
    "            cisa_date_added.append(entry.cisa_date_added[:10])\n",
    "\n",
    "    # Continue fetching data while there's a next cursor\n",
    "    while api_response.meta.next_cursor is not None:\n",
    "\n",
    "        # Fetch the next page using the cursor\n",
    "        api_response = indices_client.index_vulncheck_kev_get(\n",
    "            cursor=api_response.meta.next_cursor, limit=limit\n",
    "        )\n",
    "\n",
    "        # Append the new data from the next page\n",
    "        for entry in api_response.data:\n",
    "            cve.append(entry.cve[0])\n",
    "            vendor.append(entry.vendor_project)\n",
    "            product.append(entry.product)\n",
    "            ransomware.append(entry.known_ransomware_campaign_use)\n",
    "            date_added.append(entry.date_added[:10])\n",
    "\n",
    "            # Handle cisa_date_added when it's None or has a date\n",
    "            if entry.cisa_date_added is None:\n",
    "                cisa_date_added.append(\"none\")\n",
    "            else:\n",
    "                cisa_date_added.append(entry.cisa_date_added[:10])\n",
    "\n",
    "# Create a DataFrame from the accumulated data\n",
    "df_original = pd.DataFrame({\n",
    "    'CVE': cve,\n",
    "    'Vendor': vendor,\n",
    "    'Product': product,\n",
    "    'Ransomware': ransomware,\n",
    "    'Date Added': date_added,\n",
    "    'CISA Date Added': cisa_date_added\n",
    "})"
   ]
  },
  {
   "cell_type": "markdown",
   "metadata": {},
   "source": [
    "## 2025 Known Exploited Vulnerabilities Statistics (Year-to-Date)"
   ]
  },
  {
   "cell_type": "code",
   "execution_count": 19,
   "metadata": {
    "execution": {
     "iopub.execute_input": "2025-04-25T12:09:20.319020Z",
     "iopub.status.busy": "2025-04-25T12:09:20.318661Z",
     "iopub.status.idle": "2025-04-25T12:09:20.392969Z",
     "shell.execute_reply": "2025-04-25T12:09:20.392378Z"
    }
   },
   "outputs": [
    {
     "data": {
      "text/html": [
       "<style type=\"text/css\">\n",
       "#T_7b53f th.col0 {\n",
       "  font-weight: bold;\n",
       "  text-align: center;\n",
       "}\n",
       "#T_7b53f th.col1 {\n",
       "  font-weight: bold;\n",
       "  text-align: center;\n",
       "}\n",
       "#T_7b53f th.col2 {\n",
       "  font-weight: bold;\n",
       "  text-align: center;\n",
       "}\n",
       "#T_7b53f th.col3 {\n",
       "  font-weight: bold;\n",
       "  text-align: center;\n",
       "}\n",
       "#T_7b53f th.col4 {\n",
       "  font-weight: bold;\n",
       "  text-align: center;\n",
       "}\n",
       "#T_7b53f th.col5 {\n",
       "  font-weight: bold;\n",
       "  text-align: center;\n",
       "}\n",
       "#T_7b53f th.col6 {\n",
       "  font-weight: bold;\n",
       "  text-align: center;\n",
       "}\n",
       "#T_7b53f th.col7 {\n",
       "  font-weight: bold;\n",
       "  text-align: center;\n",
       "}\n",
       "#T_7b53f_row0_col0, #T_7b53f_row0_col1, #T_7b53f_row0_col2, #T_7b53f_row0_col3, #T_7b53f_row0_col4, #T_7b53f_row0_col5, #T_7b53f_row0_col6, #T_7b53f_row0_col7 {\n",
       "  text-align: center;\n",
       "}\n",
       "</style>\n",
       "<table id=\"T_7b53f\" style=\"width:100%; border-collapse: collapse;\">\n",
       "  <caption><b>2025 Year-to-Date KEV Statistics</b></caption>\n",
       "  <thead>\n",
       "    <tr>\n",
       "      <th class=\"blank level0\" >&nbsp;</th>\n",
       "      <th id=\"T_7b53f_level0_col0\" class=\"col_heading level0 col0\" colspan=\"2\">Total KEVs Added</th>\n",
       "      <th id=\"T_7b53f_level0_col2\" class=\"col_heading level0 col2\" colspan=\"2\">Avg. KEVs per month</th>\n",
       "      <th id=\"T_7b53f_level0_col4\" class=\"col_heading level0 col4\" colspan=\"2\">Unique Vendors</th>\n",
       "      <th id=\"T_7b53f_level0_col6\" class=\"col_heading level0 col6\" colspan=\"2\">Unique Products</th>\n",
       "    </tr>\n",
       "    <tr>\n",
       "      <th class=\"blank level1\" >&nbsp;</th>\n",
       "      <th id=\"T_7b53f_level1_col0\" class=\"col_heading level1 col0\" >VulnCheck KEV</th>\n",
       "      <th id=\"T_7b53f_level1_col1\" class=\"col_heading level1 col1\" >CISA KEV</th>\n",
       "      <th id=\"T_7b53f_level1_col2\" class=\"col_heading level1 col2\" >VulnCheck KEV</th>\n",
       "      <th id=\"T_7b53f_level1_col3\" class=\"col_heading level1 col3\" >CISA KEV</th>\n",
       "      <th id=\"T_7b53f_level1_col4\" class=\"col_heading level1 col4\" >VulnCheck KEV</th>\n",
       "      <th id=\"T_7b53f_level1_col5\" class=\"col_heading level1 col5\" >CISA KEV</th>\n",
       "      <th id=\"T_7b53f_level1_col6\" class=\"col_heading level1 col6\" >VulnCheck KEV</th>\n",
       "      <th id=\"T_7b53f_level1_col7\" class=\"col_heading level1 col7\" >CISA KEV</th>\n",
       "    </tr>\n",
       "  </thead>\n",
       "  <tbody>\n",
       "    <tr>\n",
       "      <th id=\"T_7b53f_level0_row0\" class=\"row_heading level0 row0\" >2025</th>\n",
       "      <td id=\"T_7b53f_row0_col0\" class=\"data row0 col0\" >189</td>\n",
       "      <td id=\"T_7b53f_row0_col1\" class=\"data row0 col1\" >84</td>\n",
       "      <td id=\"T_7b53f_row0_col2\" class=\"data row0 col2\" >47.2</td>\n",
       "      <td id=\"T_7b53f_row0_col3\" class=\"data row0 col3\" >21.0</td>\n",
       "      <td id=\"T_7b53f_row0_col4\" class=\"data row0 col4\" >111</td>\n",
       "      <td id=\"T_7b53f_row0_col5\" class=\"data row0 col5\" >39</td>\n",
       "      <td id=\"T_7b53f_row0_col6\" class=\"data row0 col6\" >139</td>\n",
       "      <td id=\"T_7b53f_row0_col7\" class=\"data row0 col7\" >55</td>\n",
       "    </tr>\n",
       "  </tbody>\n",
       "</table>\n"
      ],
      "text/plain": [
       "<pandas.io.formats.style.Styler at 0x13f1a5250>"
      ]
     },
     "execution_count": 19,
     "metadata": {},
     "output_type": "execute_result"
    }
   ],
   "source": [
    "df = df_original.copy()\n",
    "\n",
    "df['Date Added'] = pd.to_datetime(df['Date Added'])\n",
    "df['CISA Date Added'] = df['CISA Date Added'].replace('none', pd.NaT)\n",
    "df['CISA Date Added'] = pd.to_datetime(df['CISA Date Added'], format='%Y-%m-%d', errors='coerce')\n",
    "\n",
    "# Get the current date and calculate the number of months passed in the year\n",
    "current_date = df['Date Added'].max()  # Use the latest date in 'Date Added'\n",
    "months_passed = current_date.month if current_date.year == YEAR else 12  # Use full 12 months for past years\n",
    "\n",
    "# VulnCheck KEV data for the specified year\n",
    "df_vulncheck_year = df[df['Date Added'].dt.year == YEAR]\n",
    "total_kevs_vulncheck = df_vulncheck_year['CVE'].nunique()\n",
    "avg_kevs_per_month_vulncheck = total_kevs_vulncheck / months_passed\n",
    "\n",
    "# CISA KEV data where 'CISA Date Added' is within the specified year\n",
    "df_cisa_year = df[df['CISA Date Added'].dt.year == YEAR]\n",
    "total_kevs_cisa = df_cisa_year['CVE'].nunique()\n",
    "avg_kevs_per_month_cisa = total_kevs_cisa / months_passed\n",
    "\n",
    "# Unique vendors and products for VulnCheck KEV\n",
    "unique_vendors_vulncheck = df_vulncheck_year['Vendor'].nunique()\n",
    "unique_products_vulncheck = df_vulncheck_year['Product'].nunique()\n",
    "\n",
    "# Unique vendors and products for CISA KEV\n",
    "unique_vendors_cisa = df_cisa_year['Vendor'].nunique()\n",
    "unique_products_cisa = df_cisa_year['Product'].nunique()\n",
    "\n",
    "# Compile statistics into a structured DataFrame with multi-level columns\n",
    "stats_df = pd.DataFrame({\n",
    "    (\"Total KEVs Added\", \"VulnCheck KEV\"): [total_kevs_vulncheck],\n",
    "    (\"Total KEVs Added\", \"CISA KEV\"): [total_kevs_cisa],\n",
    "    (\"Avg. KEVs per month\", \"VulnCheck KEV\"): [avg_kevs_per_month_vulncheck],\n",
    "    (\"Avg. KEVs per month\", \"CISA KEV\"): [avg_kevs_per_month_cisa],\n",
    "    (\"Unique Vendors\", \"VulnCheck KEV\"): [unique_vendors_vulncheck],\n",
    "    (\"Unique Vendors\", \"CISA KEV\"): [unique_vendors_cisa],\n",
    "    (\"Unique Products\", \"VulnCheck KEV\"): [unique_products_vulncheck],\n",
    "    (\"Unique Products\", \"CISA KEV\"): [unique_products_cisa],\n",
    "})\n",
    "\n",
    "# Set the year as the index\n",
    "stats_df.index = [YEAR]\n",
    "\n",
    "style = [{'selector': 'th', 'props': [('font-weight', 'bold'), ('text-align', 'center')]}]\n",
    "\n",
    "# Apply styling for centered text in both headers and cells and format averages to 1 decimal point\n",
    "styled_stats_df = stats_df.style \\\n",
    "    .format({(\"Avg. KEVs per month\", \"VulnCheck KEV\"): \"{:.1f}\", \n",
    "                (\"Avg. KEVs per month\", \"CISA KEV\"): \"{:.1f}\"}) \\\n",
    "    .set_table_styles({\n",
    "        ('Total KEVs Added', 'VulnCheck KEV'): style,\n",
    "        ('Total KEVs Added', 'CISA KEV'): style,\n",
    "        ('Avg. KEVs per month', 'VulnCheck KEV'): style,\n",
    "        ('Avg. KEVs per month', 'CISA KEV'): style,\n",
    "        ('Unique Vendors', 'VulnCheck KEV'): style,\n",
    "        ('Unique Vendors', 'CISA KEV'): style,\n",
    "        ('Unique Products', 'VulnCheck KEV'): style,\n",
    "        ('Unique Products', 'CISA KEV'): style\n",
    "    }).set_properties(**{'text-align': 'center'}) \\\n",
    "    .set_caption(f\"<b>{YEAR} Year-to-Date KEV Statistics</b>\") \\\n",
    "    .set_table_attributes('style=\"width:100%; border-collapse: collapse;\"')\n",
    "\n",
    "styled_stats_df\n"
   ]
  },
  {
   "cell_type": "markdown",
   "metadata": {},
   "source": [
    "## 2025 Known Exploited Vulnerabilities by Vendor nd Product - Year-to-Date (Source:VulnCheck KEV)"
   ]
  },
  {
   "cell_type": "code",
   "execution_count": 21,
   "metadata": {
    "execution": {
     "iopub.execute_input": "2025-04-25T12:09:20.426802Z",
     "iopub.status.busy": "2025-04-25T12:09:20.426349Z",
     "iopub.status.idle": "2025-04-25T12:09:21.061038Z",
     "shell.execute_reply": "2025-04-25T12:09:21.060438Z"
    }
   },
   "outputs": [
    {
     "data": {
      "application/vnd.plotly.v1+json": {
       "config": {
        "plotlyServerURL": "https://plot.ly"
       },
       "data": [
        {
         "branchvalues": "total",
         "customdata": [
          [
           1
          ],
          [
           1
          ],
          [
           1
          ],
          [
           1
          ],
          [
           1
          ],
          [
           1
          ],
          [
           1
          ],
          [
           1
          ],
          [
           2
          ],
          [
           1
          ],
          [
           1
          ],
          [
           1
          ],
          [
           1
          ],
          [
           1
          ],
          [
           1
          ],
          [
           1
          ],
          [
           1
          ],
          [
           1
          ],
          [
           1
          ],
          [
           2
          ],
          [
           1
          ],
          [
           1
          ],
          [
           1
          ],
          [
           3
          ],
          [
           1
          ],
          [
           1
          ],
          [
           1
          ],
          [
           2
          ],
          [
           1
          ],
          [
           1
          ],
          [
           1
          ],
          [
           1
          ],
          [
           1
          ],
          [
           1
          ],
          [
           3
          ],
          [
           4
          ],
          [
           1
          ],
          [
           1
          ],
          [
           2
          ],
          [
           2
          ],
          [
           1
          ],
          [
           1
          ],
          [
           1
          ],
          [
           1
          ],
          [
           2
          ],
          [
           1
          ],
          [
           1
          ],
          [
           1
          ],
          [
           1
          ],
          [
           2
          ],
          [
           1
          ],
          [
           1
          ],
          [
           1
          ],
          [
           1
          ],
          [
           1
          ],
          [
           1
          ],
          [
           1
          ],
          [
           2
          ],
          [
           1
          ],
          [
           1
          ],
          [
           1
          ],
          [
           20
          ],
          [
           1
          ],
          [
           1
          ],
          [
           2
          ],
          [
           1
          ],
          [
           1
          ],
          [
           1
          ],
          [
           1
          ],
          [
           1
          ],
          [
           1
          ],
          [
           1
          ],
          [
           1
          ],
          [
           1
          ],
          [
           1
          ],
          [
           1
          ],
          [
           1
          ],
          [
           1
          ],
          [
           1
          ],
          [
           1
          ],
          [
           2
          ],
          [
           1
          ],
          [
           1
          ],
          [
           1
          ],
          [
           1
          ],
          [
           2
          ],
          [
           1
          ],
          [
           1
          ],
          [
           1
          ],
          [
           1
          ],
          [
           3
          ],
          [
           2
          ],
          [
           1
          ],
          [
           1
          ],
          [
           1
          ],
          [
           1
          ],
          [
           1
          ],
          [
           1
          ],
          [
           1
          ],
          [
           1
          ],
          [
           1
          ],
          [
           2
          ],
          [
           1
          ],
          [
           2
          ],
          [
           1
          ],
          [
           1
          ],
          [
           1
          ],
          [
           2
          ],
          [
           1
          ],
          [
           1
          ],
          [
           1
          ],
          [
           1
          ],
          [
           1
          ],
          [
           2
          ],
          [
           1
          ],
          [
           1
          ],
          [
           1
          ],
          [
           1
          ],
          [
           1
          ],
          [
           1
          ],
          [
           5
          ],
          [
           1
          ],
          [
           1
          ],
          [
           1
          ],
          [
           2
          ],
          [
           1
          ],
          [
           1
          ],
          [
           1
          ],
          [
           1
          ],
          [
           1
          ],
          [
           1
          ],
          [
           1
          ],
          [
           1
          ],
          [
           1
          ],
          [
           1
          ],
          [
           1
          ],
          [
           1
          ],
          [
           1
          ],
          [
           1
          ],
          [
           1
          ],
          [
           2
          ],
          [
           1
          ],
          [
           1
          ],
          [
           3.4
          ],
          [
           1
          ],
          [
           1
          ],
          [
           1
          ],
          [
           1
          ],
          [
           1
          ],
          [
           1
          ],
          [
           1
          ],
          [
           1
          ],
          [
           1
          ],
          [
           1
          ],
          [
           2
          ],
          [
           1
          ],
          [
           1
          ],
          [
           3
          ],
          [
           1
          ],
          [
           1
          ],
          [
           1
          ],
          [
           1
          ],
          [
           1
          ],
          [
           2
          ],
          [
           1
          ],
          [
           1
          ],
          [
           1
          ],
          [
           1
          ],
          [
           3
          ],
          [
           16.916666666666668
          ],
          [
           1
          ],
          [
           1
          ],
          [
           1
          ],
          [
           1
          ],
          [
           1
          ],
          [
           2
          ],
          [
           2
          ],
          [
           1
          ],
          [
           1.6666666666666667
          ],
          [
           1
          ],
          [
           1
          ],
          [
           1
          ],
          [
           1
          ],
          [
           1.6666666666666667
          ],
          [
           1
          ],
          [
           1
          ],
          [
           1
          ],
          [
           1
          ],
          [
           1
          ],
          [
           1
          ],
          [
           1
          ],
          [
           1
          ],
          [
           1
          ],
          [
           2
          ],
          [
           1
          ],
          [
           1
          ],
          [
           1
          ],
          [
           1
          ],
          [
           1
          ],
          [
           1
          ],
          [
           1
          ],
          [
           1
          ],
          [
           5
          ],
          [
           1
          ],
          [
           1
          ],
          [
           1
          ],
          [
           1
          ],
          [
           1
          ],
          [
           1
          ],
          [
           2
          ],
          [
           1
          ],
          [
           1
          ],
          [
           1
          ],
          [
           2
          ],
          [
           1
          ],
          [
           1
          ],
          [
           1
          ],
          [
           1
          ],
          [
           1
          ],
          [
           2
          ],
          [
           2
          ],
          [
           1
          ],
          [
           1
          ],
          [
           1
          ],
          [
           1
          ],
          [
           1
          ],
          [
           1
          ],
          [
           1
          ],
          [
           1
          ],
          [
           1
          ],
          [
           1
          ],
          [
           1
          ],
          [
           1
          ],
          [
           1
          ],
          [
           1
          ],
          [
           1
          ],
          [
           2
          ],
          [
           1
          ],
          [
           1.6666666666666667
          ],
          [
           1
          ],
          [
           1
          ],
          [
           1
          ],
          [
           1
          ],
          [
           1
          ],
          [
           1
          ],
          [
           1
          ],
          [
           1
          ],
          [
           1
          ],
          [
           1
          ],
          [
           1
          ]
         ],
         "domain": {
          "x": [
           0,
           1
          ],
          "y": [
           0,
           1
          ]
         },
         "hovertemplate": "labels=%{label}<br>Counts_sum=%{value}<br>parent=%{parent}<br>id=%{id}<br>Counts=%{color}<extra></extra>",
         "ids": [
          "7-Zip/7-Zip",
          "Kubio/AI Page Builder",
          "Qualitia/Active! Mail 6",
          "Age Gate/Age Gate plugin",
          "Oracle/Agile Product L",
          "SureTriggers/All-in-One Auto",
          "NAKIVO/Backup and Repl",
          "Qode Interactiv/Bridge Core plu",
          "Sitecore/CMS and Experie",
          "Gladinet/CentreStack",
          "Google/Chromium Mojo",
          "Trimble/Cityworks",
          "Ivanti/Connect Secure ",
          "Ivanti/Connect Secure,",
          "Aviatrix/Controllers",
          "Craft CMS/Craft CMS",
          "CrushFTP/CrushFTP",
          "crushftp/CrushFTP",
          "Digiever/DS-2105 Pro",
          "Zyxel/DSL CPE Devices",
          "VMware/ESXi",
          "VMware/ESXi and Workst",
          "VMware/ESXi, Workstati",
          "Ivanti/Endpoint Manage",
          "Sitecore/Experience Mana",
          "Four-Faith/F3x36 Router",
          "FlowiseAI/Flowise",
          "Fortinet/FortiOS and For",
          "glpi-project/GLPI",
          "H3C/H3C ER8300G2-X",
          "Edimax/IC-7100 IP Came",
          "Korenix/JetPort 5601",
          "Juniper/Junos OS",
          "GFI Software/KerioControl",
          "Linux/Kernel",
          "Apple/Multiple Produc",
          "Netis/Netis Router",
          "EPC/Oshine Modules",
          "Palo Alto Netwo/PAN-OS",
          "Paessler/PRTG Network Mo",
          "GutenKit/Page Builder Bl",
          "Paragon Softwar/Partition Manag",
          "Hitachi Vantara/Pentaho Busines",
          "Porto/Porto Theme - F",
          "Porto/Porto Theme for",
          "Microsoft/Power Pages",
          "Mitel/SIP Phones",
          "SonicWall/SMA100 Applianc",
          "SonicWall/SMA1000 Applian",
          "Microsoft/SharePoint Serv",
          "Cisco/Small Business ",
          "Cisco/Smart Licensing",
          "SonicWall/SonicOS",
          "VMware/Spring Framewor",
          "Element/Synapse",
          "Apache/Tomcat",
          "Veeam/Veeam Service P",
          "Advantive/VeraCore",
          "WSO2/WSO2 API Manage",
          "Oracle/WebLogic Server",
          "WhatsApp/WhatsApp Cloud ",
          "Microsoft/Windows",
          "Synacor/Zimbra Collabor",
          "appleple/a-blog_cms",
          "totolink/a3300r_firmware",
          "reviewdog/action-setup Gi",
          "Cisco/adaptive_securi",
          "nexxtsolutions/amp300_firmware",
          "abb/aspect-ent-12_f",
          "afterlogic/aurora",
          "revmakx/backup_and_stag",
          "Apache/camel",
          "tj-actions/changed-files G",
          "craftercms/crafter_cms",
          "SolarWinds/dameware_mini_r",
          "dell/dbutildrv2.sys_",
          "liferay/digital_experie",
          "D-Link/dir-823_firmwar",
          "D-Link/dir-882-us_firm",
          "dahuasecurity/dvr",
          "icegram/email_subscribe",
          "dell/emc_avamar",
          "wpdeveloper/essential_addon",
          "VMware/esx",
          "broadcom/fabric_operatin",
          "Fortinet/fortisiem",
          "Laravel/framework",
          "freetype/freetype",
          "portotheme/functionality",
          "git-commit-info/git-commit-info",
          "GitLab/gitlab",
          "givewp/givewp",
          "gl-inet/gl-s20_firmware",
          "pluginus/husky_-_product",
          "Apple/iOS and iPadOS",
          "horde/imp",
          "sfwebservice/injob",
          "eset/internet_securi",
          "krpano/krpano",
          "langflow/langflow",
          "lansweeper/lansweeper",
          "litespeedtech/litespeed_cache",
          "totolink/lr350_firmware",
          "magnussolution/magnusbilling",
          "Cisco/meraki_mx64_fir",
          "mi/millet_router_3",
          "mod_authnz_exte/mod_authnz_exte",
          "totolink/n600r_firmware",
          "SAP/netweaver",
          "infornweb/news_\\&_blog_de",
          "vercel/next.js",
          "nextchat/nextchat",
          "aditya88/online_furnitur",
          "litespeedtech/openlitespeed",
          "Red Hat/openshift_conta",
          "OpenBSD/openssh",
          "payplus/payplus_payment",
          "perfsonar/perfsonar",
          "podlove/podlove_podcast",
          "postgresql/postgresql",
          "cyberpower/powerpanel_serv",
          "Apache/pyarrow",
          "repetier-server/repetier-server",
          "nombas/scriptease_webs",
          "themepunch/slider_revoluti",
          "wpplugin/time_clock",
          "unitecms/unlimited_addon",
          "user-meta/user_meta_user_",
          "usualtool/usualtoolcms",
          "vicidial/vicidial",
          "draytek/vigor2960_firmw",
          "VMware/workspace_one_u",
          "buffalo/wsr-2533dhpl2-b",
          "x.org/x11",
          "totolink/x6000r_firmware",
          "Microsoft/xbox_gaming_ser",
          "xwiki/xwiki",
          "yiiframework/yii",
          "zabbix/zabbix",
          "7-Zip",
          "Advantive",
          "Age Gate",
          "Apache",
          "Apple",
          "Aviatrix",
          "Cisco",
          "Craft CMS",
          "CrushFTP",
          "D-Link",
          "Digiever",
          "EPC",
          "Edimax",
          "Element",
          "FlowiseAI",
          "Fortinet",
          "Four-Faith",
          "GFI Software",
          "GitLab",
          "Gladinet",
          "Google",
          "GutenKit",
          "H3C",
          "Hitachi Vantara",
          "Ivanti",
          "Juniper",
          "Korenix",
          "Kubio",
          "Laravel",
          "Linux",
          "Microsoft",
          "Mitel",
          "NAKIVO",
          "Netis",
          "OpenBSD",
          "Oracle",
          "Paessler",
          "Palo Alto Netwo",
          "Paragon Softwar",
          "Porto",
          "Qode Interactiv",
          "Qualitia",
          "Red Hat",
          "SAP",
          "Sitecore",
          "SolarWinds",
          "SonicWall",
          "SureTriggers",
          "Synacor",
          "Trimble",
          "VMware",
          "Veeam",
          "WSO2",
          "WhatsApp",
          "Zyxel",
          "abb",
          "aditya88",
          "afterlogic",
          "appleple",
          "broadcom",
          "buffalo",
          "craftercms",
          "crushftp",
          "cyberpower",
          "dahuasecurity",
          "dell",
          "draytek",
          "eset",
          "freetype",
          "git-commit-info",
          "givewp",
          "gl-inet",
          "glpi-project",
          "horde",
          "icegram",
          "infornweb",
          "krpano",
          "langflow",
          "lansweeper",
          "liferay",
          "litespeedtech",
          "magnussolution",
          "mi",
          "mod_authnz_exte",
          "nextchat",
          "nexxtsolutions",
          "nombas",
          "payplus",
          "perfsonar",
          "pluginus",
          "podlove",
          "portotheme",
          "postgresql",
          "repetier-server",
          "reviewdog",
          "revmakx",
          "sfwebservice",
          "themepunch",
          "tj-actions",
          "totolink",
          "unitecms",
          "user-meta",
          "usualtool",
          "vercel",
          "vicidial",
          "wpdeveloper",
          "wpplugin",
          "x.org",
          "xwiki",
          "yiiframework",
          "zabbix"
         ],
         "labels": [
          "7-Zip",
          "AI Page Builder",
          "Active! Mail 6",
          "Age Gate plugin",
          "Agile Product L",
          "All-in-One Auto",
          "Backup and Repl",
          "Bridge Core plu",
          "CMS and Experie",
          "CentreStack",
          "Chromium Mojo",
          "Cityworks",
          "Connect Secure ",
          "Connect Secure,",
          "Controllers",
          "Craft CMS",
          "CrushFTP",
          "CrushFTP",
          "DS-2105 Pro",
          "DSL CPE Devices",
          "ESXi",
          "ESXi and Workst",
          "ESXi, Workstati",
          "Endpoint Manage",
          "Experience Mana",
          "F3x36 Router",
          "Flowise",
          "FortiOS and For",
          "GLPI",
          "H3C ER8300G2-X",
          "IC-7100 IP Came",
          "JetPort 5601",
          "Junos OS",
          "KerioControl",
          "Kernel",
          "Multiple Produc",
          "Netis Router",
          "Oshine Modules",
          "PAN-OS",
          "PRTG Network Mo",
          "Page Builder Bl",
          "Partition Manag",
          "Pentaho Busines",
          "Porto Theme - F",
          "Porto Theme for",
          "Power Pages",
          "SIP Phones",
          "SMA100 Applianc",
          "SMA1000 Applian",
          "SharePoint Serv",
          "Small Business ",
          "Smart Licensing",
          "SonicOS",
          "Spring Framewor",
          "Synapse",
          "Tomcat",
          "Veeam Service P",
          "VeraCore",
          "WSO2 API Manage",
          "WebLogic Server",
          "WhatsApp Cloud ",
          "Windows",
          "Zimbra Collabor",
          "a-blog_cms",
          "a3300r_firmware",
          "action-setup Gi",
          "adaptive_securi",
          "amp300_firmware",
          "aspect-ent-12_f",
          "aurora",
          "backup_and_stag",
          "camel",
          "changed-files G",
          "crafter_cms",
          "dameware_mini_r",
          "dbutildrv2.sys_",
          "digital_experie",
          "dir-823_firmwar",
          "dir-882-us_firm",
          "dvr",
          "email_subscribe",
          "emc_avamar",
          "essential_addon",
          "esx",
          "fabric_operatin",
          "fortisiem",
          "framework",
          "freetype",
          "functionality",
          "git-commit-info",
          "gitlab",
          "givewp",
          "gl-s20_firmware",
          "husky_-_product",
          "iOS and iPadOS",
          "imp",
          "injob",
          "internet_securi",
          "krpano",
          "langflow",
          "lansweeper",
          "litespeed_cache",
          "lr350_firmware",
          "magnusbilling",
          "meraki_mx64_fir",
          "millet_router_3",
          "mod_authnz_exte",
          "n600r_firmware",
          "netweaver",
          "news_\\&_blog_de",
          "next.js",
          "nextchat",
          "online_furnitur",
          "openlitespeed",
          "openshift_conta",
          "openssh",
          "payplus_payment",
          "perfsonar",
          "podlove_podcast",
          "postgresql",
          "powerpanel_serv",
          "pyarrow",
          "repetier-server",
          "scriptease_webs",
          "slider_revoluti",
          "time_clock",
          "unlimited_addon",
          "user_meta_user_",
          "usualtoolcms",
          "vicidial",
          "vigor2960_firmw",
          "workspace_one_u",
          "wsr-2533dhpl2-b",
          "x11",
          "x6000r_firmware",
          "xbox_gaming_ser",
          "xwiki",
          "yii",
          "zabbix",
          "7-Zip",
          "Advantive",
          "Age Gate",
          "Apache",
          "Apple",
          "Aviatrix",
          "Cisco",
          "Craft CMS",
          "CrushFTP",
          "D-Link",
          "Digiever",
          "EPC",
          "Edimax",
          "Element",
          "FlowiseAI",
          "Fortinet",
          "Four-Faith",
          "GFI Software",
          "GitLab",
          "Gladinet",
          "Google",
          "GutenKit",
          "H3C",
          "Hitachi Vantara",
          "Ivanti",
          "Juniper",
          "Korenix",
          "Kubio",
          "Laravel",
          "Linux",
          "Microsoft",
          "Mitel",
          "NAKIVO",
          "Netis",
          "OpenBSD",
          "Oracle",
          "Paessler",
          "Palo Alto Netwo",
          "Paragon Softwar",
          "Porto",
          "Qode Interactiv",
          "Qualitia",
          "Red Hat",
          "SAP",
          "Sitecore",
          "SolarWinds",
          "SonicWall",
          "SureTriggers",
          "Synacor",
          "Trimble",
          "VMware",
          "Veeam",
          "WSO2",
          "WhatsApp",
          "Zyxel",
          "abb",
          "aditya88",
          "afterlogic",
          "appleple",
          "broadcom",
          "buffalo",
          "craftercms",
          "crushftp",
          "cyberpower",
          "dahuasecurity",
          "dell",
          "draytek",
          "eset",
          "freetype",
          "git-commit-info",
          "givewp",
          "gl-inet",
          "glpi-project",
          "horde",
          "icegram",
          "infornweb",
          "krpano",
          "langflow",
          "lansweeper",
          "liferay",
          "litespeedtech",
          "magnussolution",
          "mi",
          "mod_authnz_exte",
          "nextchat",
          "nexxtsolutions",
          "nombas",
          "payplus",
          "perfsonar",
          "pluginus",
          "podlove",
          "portotheme",
          "postgresql",
          "repetier-server",
          "reviewdog",
          "revmakx",
          "sfwebservice",
          "themepunch",
          "tj-actions",
          "totolink",
          "unitecms",
          "user-meta",
          "usualtool",
          "vercel",
          "vicidial",
          "wpdeveloper",
          "wpplugin",
          "x.org",
          "xwiki",
          "yiiframework",
          "zabbix"
         ],
         "marker": {
          "coloraxis": "coloraxis",
          "colors": [
           1,
           1,
           1,
           1,
           1,
           1,
           1,
           1,
           2,
           1,
           1,
           1,
           1,
           1,
           1,
           1,
           1,
           1,
           1,
           2,
           1,
           1,
           1,
           3,
           1,
           1,
           1,
           2,
           1,
           1,
           1,
           1,
           1,
           1,
           3,
           4,
           1,
           1,
           2,
           2,
           1,
           1,
           1,
           1,
           2,
           1,
           1,
           1,
           1,
           2,
           1,
           1,
           1,
           1,
           1,
           1,
           1,
           2,
           1,
           1,
           1,
           20,
           1,
           1,
           2,
           1,
           1,
           1,
           1,
           1,
           1,
           1,
           1,
           1,
           1,
           1,
           1,
           1,
           1,
           1,
           2,
           1,
           1,
           1,
           1,
           2,
           1,
           1,
           1,
           1,
           3,
           2,
           1,
           1,
           1,
           1,
           1,
           1,
           1,
           1,
           1,
           2,
           1,
           2,
           1,
           1,
           1,
           2,
           1,
           1,
           1,
           1,
           1,
           2,
           1,
           1,
           1,
           1,
           1,
           1,
           5,
           1,
           1,
           1,
           2,
           1,
           1,
           1,
           1,
           1,
           1,
           1,
           1,
           1,
           1,
           1,
           1,
           1,
           1,
           1,
           2,
           1,
           1,
           3.4,
           1,
           1,
           1,
           1,
           1,
           1,
           1,
           1,
           1,
           1,
           2,
           1,
           1,
           3,
           1,
           1,
           1,
           1,
           1,
           2,
           1,
           1,
           1,
           1,
           3,
           16.916666666666668,
           1,
           1,
           1,
           1,
           1,
           2,
           2,
           1,
           1.6666666666666667,
           1,
           1,
           1,
           1,
           1.6666666666666667,
           1,
           1,
           1,
           1,
           1,
           1,
           1,
           1,
           1,
           2,
           1,
           1,
           1,
           1,
           1,
           1,
           1,
           1,
           5,
           1,
           1,
           1,
           1,
           1,
           1,
           2,
           1,
           1,
           1,
           2,
           1,
           1,
           1,
           1,
           1,
           2,
           2,
           1,
           1,
           1,
           1,
           1,
           1,
           1,
           1,
           1,
           1,
           1,
           1,
           1,
           1,
           1,
           2,
           1,
           1.6666666666666667,
           1,
           1,
           1,
           1,
           1,
           1,
           1,
           1,
           1,
           1,
           1
          ]
         },
         "name": "",
         "parents": [
          "7-Zip",
          "Kubio",
          "Qualitia",
          "Age Gate",
          "Oracle",
          "SureTriggers",
          "NAKIVO",
          "Qode Interactiv",
          "Sitecore",
          "Gladinet",
          "Google",
          "Trimble",
          "Ivanti",
          "Ivanti",
          "Aviatrix",
          "Craft CMS",
          "CrushFTP",
          "crushftp",
          "Digiever",
          "Zyxel",
          "VMware",
          "VMware",
          "VMware",
          "Ivanti",
          "Sitecore",
          "Four-Faith",
          "FlowiseAI",
          "Fortinet",
          "glpi-project",
          "H3C",
          "Edimax",
          "Korenix",
          "Juniper",
          "GFI Software",
          "Linux",
          "Apple",
          "Netis",
          "EPC",
          "Palo Alto Netwo",
          "Paessler",
          "GutenKit",
          "Paragon Softwar",
          "Hitachi Vantara",
          "Porto",
          "Porto",
          "Microsoft",
          "Mitel",
          "SonicWall",
          "SonicWall",
          "Microsoft",
          "Cisco",
          "Cisco",
          "SonicWall",
          "VMware",
          "Element",
          "Apache",
          "Veeam",
          "Advantive",
          "WSO2",
          "Oracle",
          "WhatsApp",
          "Microsoft",
          "Synacor",
          "appleple",
          "totolink",
          "reviewdog",
          "Cisco",
          "nexxtsolutions",
          "abb",
          "afterlogic",
          "revmakx",
          "Apache",
          "tj-actions",
          "craftercms",
          "SolarWinds",
          "dell",
          "liferay",
          "D-Link",
          "D-Link",
          "dahuasecurity",
          "icegram",
          "dell",
          "wpdeveloper",
          "VMware",
          "broadcom",
          "Fortinet",
          "Laravel",
          "freetype",
          "portotheme",
          "git-commit-info",
          "GitLab",
          "givewp",
          "gl-inet",
          "pluginus",
          "Apple",
          "horde",
          "sfwebservice",
          "eset",
          "krpano",
          "langflow",
          "lansweeper",
          "litespeedtech",
          "totolink",
          "magnussolution",
          "Cisco",
          "mi",
          "mod_authnz_exte",
          "totolink",
          "SAP",
          "infornweb",
          "vercel",
          "nextchat",
          "aditya88",
          "litespeedtech",
          "Red Hat",
          "OpenBSD",
          "payplus",
          "perfsonar",
          "podlove",
          "postgresql",
          "cyberpower",
          "Apache",
          "repetier-server",
          "nombas",
          "themepunch",
          "wpplugin",
          "unitecms",
          "user-meta",
          "usualtool",
          "vicidial",
          "draytek",
          "VMware",
          "buffalo",
          "x.org",
          "totolink",
          "Microsoft",
          "xwiki",
          "yiiframework",
          "zabbix",
          "",
          "",
          "",
          "",
          "",
          "",
          "",
          "",
          "",
          "",
          "",
          "",
          "",
          "",
          "",
          "",
          "",
          "",
          "",
          "",
          "",
          "",
          "",
          "",
          "",
          "",
          "",
          "",
          "",
          "",
          "",
          "",
          "",
          "",
          "",
          "",
          "",
          "",
          "",
          "",
          "",
          "",
          "",
          "",
          "",
          "",
          "",
          "",
          "",
          "",
          "",
          "",
          "",
          "",
          "",
          "",
          "",
          "",
          "",
          "",
          "",
          "",
          "",
          "",
          "",
          "",
          "",
          "",
          "",
          "",
          "",
          "",
          "",
          "",
          "",
          "",
          "",
          "",
          "",
          "",
          "",
          "",
          "",
          "",
          "",
          "",
          "",
          "",
          "",
          "",
          "",
          "",
          "",
          "",
          "",
          "",
          "",
          "",
          "",
          "",
          "",
          "",
          "",
          "",
          "",
          "",
          "",
          "",
          "",
          "",
          ""
         ],
         "textfont": {
          "color": "white",
          "size": 16
         },
         "texttemplate": "%{label}<br> %{value}",
         "type": "treemap",
         "values": [
          1,
          1,
          1,
          1,
          1,
          1,
          1,
          1,
          2,
          1,
          1,
          1,
          1,
          2,
          1,
          1,
          1,
          1,
          1,
          2,
          1,
          1,
          1,
          3,
          1,
          1,
          1,
          2,
          1,
          1,
          1,
          1,
          1,
          1,
          3,
          4,
          1,
          1,
          2,
          2,
          1,
          1,
          1,
          1,
          2,
          1,
          1,
          1,
          1,
          2,
          1,
          1,
          1,
          1,
          1,
          1,
          1,
          2,
          1,
          1,
          1,
          20,
          1,
          1,
          2,
          1,
          1,
          1,
          1,
          1,
          1,
          1,
          1,
          1,
          1,
          1,
          1,
          1,
          1,
          1,
          2,
          1,
          1,
          1,
          1,
          2,
          1,
          1,
          1,
          1,
          3,
          2,
          1,
          1,
          1,
          1,
          1,
          1,
          1,
          1,
          1,
          2,
          1,
          2,
          1,
          1,
          1,
          2,
          1,
          1,
          1,
          1,
          1,
          2,
          1,
          1,
          1,
          1,
          1,
          1,
          5,
          1,
          1,
          1,
          2,
          1,
          1,
          1,
          1,
          1,
          1,
          1,
          1,
          1,
          1,
          1,
          1,
          1,
          1,
          1,
          2,
          1,
          3,
          5,
          1,
          4,
          1,
          1,
          2,
          1,
          1,
          1,
          1,
          1,
          4,
          1,
          1,
          3,
          1,
          1,
          1,
          1,
          1,
          6,
          1,
          1,
          1,
          1,
          3,
          24,
          1,
          1,
          1,
          1,
          2,
          2,
          2,
          1,
          3,
          1,
          1,
          1,
          1,
          3,
          1,
          3,
          1,
          1,
          1,
          6,
          1,
          1,
          1,
          2,
          1,
          1,
          1,
          1,
          1,
          1,
          1,
          1,
          5,
          1,
          2,
          1,
          1,
          1,
          1,
          2,
          1,
          1,
          1,
          2,
          1,
          1,
          1,
          1,
          1,
          4,
          2,
          1,
          1,
          1,
          1,
          1,
          1,
          1,
          1,
          1,
          1,
          1,
          1,
          1,
          1,
          1,
          2,
          1,
          6,
          1,
          1,
          1,
          1,
          1,
          1,
          1,
          1,
          1,
          1,
          1
         ]
        }
       ],
       "layout": {
        "coloraxis": {
         "colorbar": {
          "title": {
           "text": "Counts"
          }
         },
         "colorscale": [
          [
           0,
           "#440154"
          ],
          [
           0.1111111111111111,
           "#482878"
          ],
          [
           0.2222222222222222,
           "#3e4989"
          ],
          [
           0.3333333333333333,
           "#31688e"
          ],
          [
           0.4444444444444444,
           "#26828e"
          ],
          [
           0.5555555555555556,
           "#1f9e89"
          ],
          [
           0.6666666666666666,
           "#35b779"
          ],
          [
           0.7777777777777778,
           "#6ece58"
          ],
          [
           0.8888888888888888,
           "#b5de2b"
          ],
          [
           1,
           "#fde725"
          ]
         ],
         "showscale": false
        },
        "height": 1000,
        "legend": {
         "tracegroupgap": 0
        },
        "margin": {
         "b": 25,
         "l": 25,
         "r": 25,
         "t": 50
        },
        "paper_bgcolor": "black",
        "plot_bgcolor": "black",
        "template": {
         "data": {
          "bar": [
           {
            "error_x": {
             "color": "#2a3f5f"
            },
            "error_y": {
             "color": "#2a3f5f"
            },
            "marker": {
             "line": {
              "color": "#E5ECF6",
              "width": 0.5
             },
             "pattern": {
              "fillmode": "overlay",
              "size": 10,
              "solidity": 0.2
             }
            },
            "type": "bar"
           }
          ],
          "barpolar": [
           {
            "marker": {
             "line": {
              "color": "#E5ECF6",
              "width": 0.5
             },
             "pattern": {
              "fillmode": "overlay",
              "size": 10,
              "solidity": 0.2
             }
            },
            "type": "barpolar"
           }
          ],
          "carpet": [
           {
            "aaxis": {
             "endlinecolor": "#2a3f5f",
             "gridcolor": "white",
             "linecolor": "white",
             "minorgridcolor": "white",
             "startlinecolor": "#2a3f5f"
            },
            "baxis": {
             "endlinecolor": "#2a3f5f",
             "gridcolor": "white",
             "linecolor": "white",
             "minorgridcolor": "white",
             "startlinecolor": "#2a3f5f"
            },
            "type": "carpet"
           }
          ],
          "choropleth": [
           {
            "colorbar": {
             "outlinewidth": 0,
             "ticks": ""
            },
            "type": "choropleth"
           }
          ],
          "contour": [
           {
            "colorbar": {
             "outlinewidth": 0,
             "ticks": ""
            },
            "colorscale": [
             [
              0,
              "#0d0887"
             ],
             [
              0.1111111111111111,
              "#46039f"
             ],
             [
              0.2222222222222222,
              "#7201a8"
             ],
             [
              0.3333333333333333,
              "#9c179e"
             ],
             [
              0.4444444444444444,
              "#bd3786"
             ],
             [
              0.5555555555555556,
              "#d8576b"
             ],
             [
              0.6666666666666666,
              "#ed7953"
             ],
             [
              0.7777777777777778,
              "#fb9f3a"
             ],
             [
              0.8888888888888888,
              "#fdca26"
             ],
             [
              1,
              "#f0f921"
             ]
            ],
            "type": "contour"
           }
          ],
          "contourcarpet": [
           {
            "colorbar": {
             "outlinewidth": 0,
             "ticks": ""
            },
            "type": "contourcarpet"
           }
          ],
          "heatmap": [
           {
            "colorbar": {
             "outlinewidth": 0,
             "ticks": ""
            },
            "colorscale": [
             [
              0,
              "#0d0887"
             ],
             [
              0.1111111111111111,
              "#46039f"
             ],
             [
              0.2222222222222222,
              "#7201a8"
             ],
             [
              0.3333333333333333,
              "#9c179e"
             ],
             [
              0.4444444444444444,
              "#bd3786"
             ],
             [
              0.5555555555555556,
              "#d8576b"
             ],
             [
              0.6666666666666666,
              "#ed7953"
             ],
             [
              0.7777777777777778,
              "#fb9f3a"
             ],
             [
              0.8888888888888888,
              "#fdca26"
             ],
             [
              1,
              "#f0f921"
             ]
            ],
            "type": "heatmap"
           }
          ],
          "heatmapgl": [
           {
            "colorbar": {
             "outlinewidth": 0,
             "ticks": ""
            },
            "colorscale": [
             [
              0,
              "#0d0887"
             ],
             [
              0.1111111111111111,
              "#46039f"
             ],
             [
              0.2222222222222222,
              "#7201a8"
             ],
             [
              0.3333333333333333,
              "#9c179e"
             ],
             [
              0.4444444444444444,
              "#bd3786"
             ],
             [
              0.5555555555555556,
              "#d8576b"
             ],
             [
              0.6666666666666666,
              "#ed7953"
             ],
             [
              0.7777777777777778,
              "#fb9f3a"
             ],
             [
              0.8888888888888888,
              "#fdca26"
             ],
             [
              1,
              "#f0f921"
             ]
            ],
            "type": "heatmapgl"
           }
          ],
          "histogram": [
           {
            "marker": {
             "pattern": {
              "fillmode": "overlay",
              "size": 10,
              "solidity": 0.2
             }
            },
            "type": "histogram"
           }
          ],
          "histogram2d": [
           {
            "colorbar": {
             "outlinewidth": 0,
             "ticks": ""
            },
            "colorscale": [
             [
              0,
              "#0d0887"
             ],
             [
              0.1111111111111111,
              "#46039f"
             ],
             [
              0.2222222222222222,
              "#7201a8"
             ],
             [
              0.3333333333333333,
              "#9c179e"
             ],
             [
              0.4444444444444444,
              "#bd3786"
             ],
             [
              0.5555555555555556,
              "#d8576b"
             ],
             [
              0.6666666666666666,
              "#ed7953"
             ],
             [
              0.7777777777777778,
              "#fb9f3a"
             ],
             [
              0.8888888888888888,
              "#fdca26"
             ],
             [
              1,
              "#f0f921"
             ]
            ],
            "type": "histogram2d"
           }
          ],
          "histogram2dcontour": [
           {
            "colorbar": {
             "outlinewidth": 0,
             "ticks": ""
            },
            "colorscale": [
             [
              0,
              "#0d0887"
             ],
             [
              0.1111111111111111,
              "#46039f"
             ],
             [
              0.2222222222222222,
              "#7201a8"
             ],
             [
              0.3333333333333333,
              "#9c179e"
             ],
             [
              0.4444444444444444,
              "#bd3786"
             ],
             [
              0.5555555555555556,
              "#d8576b"
             ],
             [
              0.6666666666666666,
              "#ed7953"
             ],
             [
              0.7777777777777778,
              "#fb9f3a"
             ],
             [
              0.8888888888888888,
              "#fdca26"
             ],
             [
              1,
              "#f0f921"
             ]
            ],
            "type": "histogram2dcontour"
           }
          ],
          "mesh3d": [
           {
            "colorbar": {
             "outlinewidth": 0,
             "ticks": ""
            },
            "type": "mesh3d"
           }
          ],
          "parcoords": [
           {
            "line": {
             "colorbar": {
              "outlinewidth": 0,
              "ticks": ""
             }
            },
            "type": "parcoords"
           }
          ],
          "pie": [
           {
            "automargin": true,
            "type": "pie"
           }
          ],
          "scatter": [
           {
            "fillpattern": {
             "fillmode": "overlay",
             "size": 10,
             "solidity": 0.2
            },
            "type": "scatter"
           }
          ],
          "scatter3d": [
           {
            "line": {
             "colorbar": {
              "outlinewidth": 0,
              "ticks": ""
             }
            },
            "marker": {
             "colorbar": {
              "outlinewidth": 0,
              "ticks": ""
             }
            },
            "type": "scatter3d"
           }
          ],
          "scattercarpet": [
           {
            "marker": {
             "colorbar": {
              "outlinewidth": 0,
              "ticks": ""
             }
            },
            "type": "scattercarpet"
           }
          ],
          "scattergeo": [
           {
            "marker": {
             "colorbar": {
              "outlinewidth": 0,
              "ticks": ""
             }
            },
            "type": "scattergeo"
           }
          ],
          "scattergl": [
           {
            "marker": {
             "colorbar": {
              "outlinewidth": 0,
              "ticks": ""
             }
            },
            "type": "scattergl"
           }
          ],
          "scattermapbox": [
           {
            "marker": {
             "colorbar": {
              "outlinewidth": 0,
              "ticks": ""
             }
            },
            "type": "scattermapbox"
           }
          ],
          "scatterpolar": [
           {
            "marker": {
             "colorbar": {
              "outlinewidth": 0,
              "ticks": ""
             }
            },
            "type": "scatterpolar"
           }
          ],
          "scatterpolargl": [
           {
            "marker": {
             "colorbar": {
              "outlinewidth": 0,
              "ticks": ""
             }
            },
            "type": "scatterpolargl"
           }
          ],
          "scatterternary": [
           {
            "marker": {
             "colorbar": {
              "outlinewidth": 0,
              "ticks": ""
             }
            },
            "type": "scatterternary"
           }
          ],
          "surface": [
           {
            "colorbar": {
             "outlinewidth": 0,
             "ticks": ""
            },
            "colorscale": [
             [
              0,
              "#0d0887"
             ],
             [
              0.1111111111111111,
              "#46039f"
             ],
             [
              0.2222222222222222,
              "#7201a8"
             ],
             [
              0.3333333333333333,
              "#9c179e"
             ],
             [
              0.4444444444444444,
              "#bd3786"
             ],
             [
              0.5555555555555556,
              "#d8576b"
             ],
             [
              0.6666666666666666,
              "#ed7953"
             ],
             [
              0.7777777777777778,
              "#fb9f3a"
             ],
             [
              0.8888888888888888,
              "#fdca26"
             ],
             [
              1,
              "#f0f921"
             ]
            ],
            "type": "surface"
           }
          ],
          "table": [
           {
            "cells": {
             "fill": {
              "color": "#EBF0F8"
             },
             "line": {
              "color": "white"
             }
            },
            "header": {
             "fill": {
              "color": "#C8D4E3"
             },
             "line": {
              "color": "white"
             }
            },
            "type": "table"
           }
          ]
         },
         "layout": {
          "annotationdefaults": {
           "arrowcolor": "#2a3f5f",
           "arrowhead": 0,
           "arrowwidth": 1
          },
          "autotypenumbers": "strict",
          "coloraxis": {
           "colorbar": {
            "outlinewidth": 0,
            "ticks": ""
           }
          },
          "colorscale": {
           "diverging": [
            [
             0,
             "#8e0152"
            ],
            [
             0.1,
             "#c51b7d"
            ],
            [
             0.2,
             "#de77ae"
            ],
            [
             0.3,
             "#f1b6da"
            ],
            [
             0.4,
             "#fde0ef"
            ],
            [
             0.5,
             "#f7f7f7"
            ],
            [
             0.6,
             "#e6f5d0"
            ],
            [
             0.7,
             "#b8e186"
            ],
            [
             0.8,
             "#7fbc41"
            ],
            [
             0.9,
             "#4d9221"
            ],
            [
             1,
             "#276419"
            ]
           ],
           "sequential": [
            [
             0,
             "#0d0887"
            ],
            [
             0.1111111111111111,
             "#46039f"
            ],
            [
             0.2222222222222222,
             "#7201a8"
            ],
            [
             0.3333333333333333,
             "#9c179e"
            ],
            [
             0.4444444444444444,
             "#bd3786"
            ],
            [
             0.5555555555555556,
             "#d8576b"
            ],
            [
             0.6666666666666666,
             "#ed7953"
            ],
            [
             0.7777777777777778,
             "#fb9f3a"
            ],
            [
             0.8888888888888888,
             "#fdca26"
            ],
            [
             1,
             "#f0f921"
            ]
           ],
           "sequentialminus": [
            [
             0,
             "#0d0887"
            ],
            [
             0.1111111111111111,
             "#46039f"
            ],
            [
             0.2222222222222222,
             "#7201a8"
            ],
            [
             0.3333333333333333,
             "#9c179e"
            ],
            [
             0.4444444444444444,
             "#bd3786"
            ],
            [
             0.5555555555555556,
             "#d8576b"
            ],
            [
             0.6666666666666666,
             "#ed7953"
            ],
            [
             0.7777777777777778,
             "#fb9f3a"
            ],
            [
             0.8888888888888888,
             "#fdca26"
            ],
            [
             1,
             "#f0f921"
            ]
           ]
          },
          "colorway": [
           "#636efa",
           "#EF553B",
           "#00cc96",
           "#ab63fa",
           "#FFA15A",
           "#19d3f3",
           "#FF6692",
           "#B6E880",
           "#FF97FF",
           "#FECB52"
          ],
          "font": {
           "color": "#2a3f5f"
          },
          "geo": {
           "bgcolor": "white",
           "lakecolor": "white",
           "landcolor": "#E5ECF6",
           "showlakes": true,
           "showland": true,
           "subunitcolor": "white"
          },
          "hoverlabel": {
           "align": "left"
          },
          "hovermode": "closest",
          "mapbox": {
           "style": "light"
          },
          "paper_bgcolor": "white",
          "plot_bgcolor": "#E5ECF6",
          "polar": {
           "angularaxis": {
            "gridcolor": "white",
            "linecolor": "white",
            "ticks": ""
           },
           "bgcolor": "#E5ECF6",
           "radialaxis": {
            "gridcolor": "white",
            "linecolor": "white",
            "ticks": ""
           }
          },
          "scene": {
           "xaxis": {
            "backgroundcolor": "#E5ECF6",
            "gridcolor": "white",
            "gridwidth": 2,
            "linecolor": "white",
            "showbackground": true,
            "ticks": "",
            "zerolinecolor": "white"
           },
           "yaxis": {
            "backgroundcolor": "#E5ECF6",
            "gridcolor": "white",
            "gridwidth": 2,
            "linecolor": "white",
            "showbackground": true,
            "ticks": "",
            "zerolinecolor": "white"
           },
           "zaxis": {
            "backgroundcolor": "#E5ECF6",
            "gridcolor": "white",
            "gridwidth": 2,
            "linecolor": "white",
            "showbackground": true,
            "ticks": "",
            "zerolinecolor": "white"
           }
          },
          "shapedefaults": {
           "line": {
            "color": "#2a3f5f"
           }
          },
          "ternary": {
           "aaxis": {
            "gridcolor": "white",
            "linecolor": "white",
            "ticks": ""
           },
           "baxis": {
            "gridcolor": "white",
            "linecolor": "white",
            "ticks": ""
           },
           "bgcolor": "#E5ECF6",
           "caxis": {
            "gridcolor": "white",
            "linecolor": "white",
            "ticks": ""
           }
          },
          "title": {
           "x": 0.05
          },
          "xaxis": {
           "automargin": true,
           "gridcolor": "white",
           "linecolor": "white",
           "ticks": "",
           "title": {
            "standoff": 15
           },
           "zerolinecolor": "white",
           "zerolinewidth": 2
          },
          "yaxis": {
           "automargin": true,
           "gridcolor": "white",
           "linecolor": "white",
           "ticks": "",
           "title": {
            "standoff": 15
           },
           "zerolinecolor": "white",
           "zerolinewidth": 2
          }
         }
        },
        "title": {
         "font": {
          "color": "white",
          "size": 20
         },
         "text": "Known Exploited Vulnerabilities by Vendor and Product - 2025 (Source: VulnCheck KEV)",
         "x": 0.5
        },
        "width": 1800
       }
      }
     },
     "metadata": {},
     "output_type": "display_data"
    }
   ],
   "source": [
    "df = df_original.copy()\n",
    "\n",
    "# Convert 'Date Added' to datetime format\n",
    "df['Date Added'] = pd.to_datetime(df['Date Added'], errors='coerce')\n",
    "\n",
    "# Filter for entries where 'Date Added' is in the current year\n",
    "current_year = df[(df['Date Added'].dt.year == YEAR)]\n",
    "\n",
    "# Count occurrences by Vendor and Product for the current year\n",
    "vendor_product_counts = current_year.groupby(['Vendor', 'Product']).size().reset_index(name='Counts')\n",
    "\n",
    "# Truncate vendor and product names to 15 characters for readability\n",
    "vendor_product_counts['Vendor'] = vendor_product_counts['Vendor'].str.slice(0, 15)\n",
    "vendor_product_counts['Product'] = vendor_product_counts['Product'].str.slice(0, 15)\n",
    "\n",
    "# Create a treemap with both Vendor and Product levels\n",
    "fig = px.treemap(vendor_product_counts, path=['Vendor', 'Product'], values='Counts', \n",
    "                 color='Counts', color_continuous_scale='Viridis')\n",
    "\n",
    "# Customize the title and layout for dark mode with specific width and height\n",
    "fig.update_layout(\n",
    "    title=f\"Known Exploited Vulnerabilities by Vendor and Product - {YEAR} (Source: VulnCheck KEV)\",\n",
    "    title_font=dict(size=20, color='white'),\n",
    "    title_x=0.5,\n",
    "    paper_bgcolor='black',\n",
    "    plot_bgcolor='black',\n",
    "    margin=dict(t=50, l=25, r=25, b=25),\n",
    "    width=1800,\n",
    "    height=1000\n",
    ")\n",
    "\n",
    "# Remove color bar by setting coloraxis_showscale to False\n",
    "fig.update_coloraxes(showscale=False)\n",
    "\n",
    "# Use default font for labels inside the treemap (Arial) by removing custom font settings\n",
    "fig.update_traces(\n",
    "    texttemplate='%{label}<br> %{value}', \n",
    "    textfont_size=16,\n",
    "    textfont_color='white'\n",
    ")\n",
    "\n",
    "# Display the figure\n",
    "fig.show()\n"
   ]
  },
  {
   "cell_type": "markdown",
   "metadata": {},
   "source": [
    "## 2025 Known Exploited Vulnerabilities by Vendor nd Product - Year-to-Date (Source:CISA KEV)"
   ]
  },
  {
   "cell_type": "code",
   "execution_count": 22,
   "metadata": {
    "execution": {
     "iopub.execute_input": "2025-04-25T12:09:21.104694Z",
     "iopub.status.busy": "2025-04-25T12:09:21.104459Z",
     "iopub.status.idle": "2025-04-25T12:09:21.215636Z",
     "shell.execute_reply": "2025-04-25T12:09:21.215042Z"
    }
   },
   "outputs": [
    {
     "data": {
      "application/vnd.plotly.v1+json": {
       "config": {
        "plotlyServerURL": "https://plot.ly"
       },
       "data": [
        {
         "branchvalues": "total",
         "customdata": [
          [
           1
          ],
          [
           1
          ],
          [
           1
          ],
          [
           1
          ],
          [
           2
          ],
          [
           1
          ],
          [
           1
          ],
          [
           1
          ],
          [
           1
          ],
          [
           1
          ],
          [
           1
          ],
          [
           1
          ],
          [
           1
          ],
          [
           1
          ],
          [
           2
          ],
          [
           1
          ],
          [
           1
          ],
          [
           1
          ],
          [
           1
          ],
          [
           3
          ],
          [
           2
          ],
          [
           1
          ],
          [
           1
          ],
          [
           1
          ],
          [
           4
          ],
          [
           2
          ],
          [
           4
          ],
          [
           1
          ],
          [
           1
          ],
          [
           1
          ],
          [
           2
          ],
          [
           2
          ],
          [
           1
          ],
          [
           2
          ],
          [
           1
          ],
          [
           1
          ],
          [
           1
          ],
          [
           1
          ],
          [
           1
          ],
          [
           1
          ],
          [
           1
          ],
          [
           1
          ],
          [
           1
          ],
          [
           1
          ],
          [
           1
          ],
          [
           2
          ],
          [
           1
          ],
          [
           1
          ],
          [
           14
          ],
          [
           1
          ],
          [
           1
          ],
          [
           1
          ],
          [
           1
          ],
          [
           1
          ],
          [
           1
          ],
          [
           1
          ],
          [
           2
          ],
          [
           1
          ],
          [
           3.4
          ],
          [
           1
          ],
          [
           1
          ],
          [
           1
          ],
          [
           1
          ],
          [
           1
          ],
          [
           1
          ],
          [
           1
          ],
          [
           2
          ],
          [
           1
          ],
          [
           1
          ],
          [
           2
          ],
          [
           2.2
          ],
          [
           1
          ],
          [
           1
          ],
          [
           4
          ],
          [
           11.11111111111111
          ],
          [
           1.6666666666666667
          ],
          [
           1
          ],
          [
           1
          ],
          [
           2
          ],
          [
           2
          ],
          [
           1
          ],
          [
           1
          ],
          [
           1
          ],
          [
           1
          ],
          [
           2
          ],
          [
           1
          ],
          [
           1
          ],
          [
           1
          ],
          [
           1
          ],
          [
           1
          ],
          [
           2
          ],
          [
           1
          ],
          [
           1
          ]
         ],
         "domain": {
          "x": [
           0,
           1
          ],
          "y": [
           0,
           1
          ]
         },
         "hovertemplate": "labels=%{label}<br>Counts_sum=%{value}<br>parent=%{parent}<br>id=%{id}<br>Counts=%{color}<extra></extra>",
         "ids": [
          "Microsoft/.NET Framework",
          "7-Zip/7-Zip",
          "Oracle/Agile Product L",
          "NAKIVO/Backup and Repl",
          "Sitecore/CMS and Experie",
          "Gladinet/CentreStack",
          "Google/Chromium Mojo",
          "Trimble/Cityworks",
          "Adobe/ColdFusion",
          "Ivanti/Connect Secure,",
          "Aviatrix/Controllers",
          "Craft CMS/Craft CMS",
          "CrushFTP/CrushFTP",
          "Sophos/CyberoamOS",
          "Zyxel/DSL CPE Devices",
          "Audinate/Dante Discovery",
          "VMware/ESXi",
          "VMware/ESXi and Workst",
          "VMware/ESXi, Workstati",
          "Ivanti/Endpoint Manage",
          "Fortinet/FortiOS and For",
          "Edimax/IC-7100 IP Came",
          "JQuery/JQuery",
          "Juniper/Junos OS",
          "Linux/Kernel",
          "Mitel/MiCollab",
          "Apple/Multiple Produc",
          "SAP/NetWeaver",
          "Apache/OFBiz",
          "Microsoft/Office Outlook",
          "Palo Alto Netwo/PAN-OS",
          "Paessler/PRTG Network Mo",
          "Microsoft/Partner Center",
          "Hitachi Vantara/Pentaho Busines",
          "Microsoft/Power Pages",
          "BeyondTrust/Privileged Remo",
          "Mitel/SIP Phones",
          "SonicWall/SMA100 Applianc",
          "SonicWall/SMA1000 Applian",
          "Qlik/Sense",
          "SimpleHelp /SimpleHelp",
          "Cisco/Small Business ",
          "Cisco/Smart Licensing",
          "SonicWall/SonicOS",
          "Apache/Tomcat",
          "Advantive/VeraCore",
          "Oracle/WebLogic Server",
          "Progress/WhatsUp Gold",
          "Microsoft/Windows",
          "Sophos/XG Firewall",
          "Synacor/Zimbra Collabor",
          "reviewdog/action-setup Gi",
          "tj-actions/changed-files G",
          "Apple/iOS and iPadOS",
          "7-Zip",
          "Adobe",
          "Advantive",
          "Apache",
          "Apple",
          "Audinate",
          "Aviatrix",
          "BeyondTrust",
          "Cisco",
          "Craft CMS",
          "CrushFTP",
          "Edimax",
          "Fortinet",
          "Gladinet",
          "Google",
          "Hitachi Vantara",
          "Ivanti",
          "JQuery",
          "Juniper",
          "Linux",
          "Microsoft",
          "Mitel",
          "NAKIVO",
          "Oracle",
          "Paessler",
          "Palo Alto Netwo",
          "Progress",
          "Qlik",
          "SAP",
          "SimpleHelp ",
          "Sitecore",
          "SonicWall",
          "Sophos",
          "Synacor",
          "Trimble",
          "VMware",
          "Zyxel",
          "reviewdog",
          "tj-actions"
         ],
         "labels": [
          ".NET Framework",
          "7-Zip",
          "Agile Product L",
          "Backup and Repl",
          "CMS and Experie",
          "CentreStack",
          "Chromium Mojo",
          "Cityworks",
          "ColdFusion",
          "Connect Secure,",
          "Controllers",
          "Craft CMS",
          "CrushFTP",
          "CyberoamOS",
          "DSL CPE Devices",
          "Dante Discovery",
          "ESXi",
          "ESXi and Workst",
          "ESXi, Workstati",
          "Endpoint Manage",
          "FortiOS and For",
          "IC-7100 IP Came",
          "JQuery",
          "Junos OS",
          "Kernel",
          "MiCollab",
          "Multiple Produc",
          "NetWeaver",
          "OFBiz",
          "Office Outlook",
          "PAN-OS",
          "PRTG Network Mo",
          "Partner Center",
          "Pentaho Busines",
          "Power Pages",
          "Privileged Remo",
          "SIP Phones",
          "SMA100 Applianc",
          "SMA1000 Applian",
          "Sense",
          "SimpleHelp",
          "Small Business ",
          "Smart Licensing",
          "SonicOS",
          "Tomcat",
          "VeraCore",
          "WebLogic Server",
          "WhatsUp Gold",
          "Windows",
          "XG Firewall",
          "Zimbra Collabor",
          "action-setup Gi",
          "changed-files G",
          "iOS and iPadOS",
          "7-Zip",
          "Adobe",
          "Advantive",
          "Apache",
          "Apple",
          "Audinate",
          "Aviatrix",
          "BeyondTrust",
          "Cisco",
          "Craft CMS",
          "CrushFTP",
          "Edimax",
          "Fortinet",
          "Gladinet",
          "Google",
          "Hitachi Vantara",
          "Ivanti",
          "JQuery",
          "Juniper",
          "Linux",
          "Microsoft",
          "Mitel",
          "NAKIVO",
          "Oracle",
          "Paessler",
          "Palo Alto Netwo",
          "Progress",
          "Qlik",
          "SAP",
          "SimpleHelp ",
          "Sitecore",
          "SonicWall",
          "Sophos",
          "Synacor",
          "Trimble",
          "VMware",
          "Zyxel",
          "reviewdog",
          "tj-actions"
         ],
         "marker": {
          "coloraxis": "coloraxis",
          "colors": [
           1,
           1,
           1,
           1,
           2,
           1,
           1,
           1,
           1,
           1,
           1,
           1,
           1,
           1,
           2,
           1,
           1,
           1,
           1,
           3,
           2,
           1,
           1,
           1,
           4,
           2,
           4,
           1,
           1,
           1,
           2,
           2,
           1,
           2,
           1,
           1,
           1,
           1,
           1,
           1,
           1,
           1,
           1,
           1,
           1,
           2,
           1,
           1,
           14,
           1,
           1,
           1,
           1,
           1,
           1,
           1,
           2,
           1,
           3.4,
           1,
           1,
           1,
           1,
           1,
           1,
           1,
           2,
           1,
           1,
           2,
           2.2,
           1,
           1,
           4,
           11.11111111111111,
           1.6666666666666667,
           1,
           1,
           2,
           2,
           1,
           1,
           1,
           1,
           2,
           1,
           1,
           1,
           1,
           1,
           2,
           1,
           1
          ]
         },
         "name": "",
         "parents": [
          "Microsoft",
          "7-Zip",
          "Oracle",
          "NAKIVO",
          "Sitecore",
          "Gladinet",
          "Google",
          "Trimble",
          "Adobe",
          "Ivanti",
          "Aviatrix",
          "Craft CMS",
          "CrushFTP",
          "Sophos",
          "Zyxel",
          "Audinate",
          "VMware",
          "VMware",
          "VMware",
          "Ivanti",
          "Fortinet",
          "Edimax",
          "JQuery",
          "Juniper",
          "Linux",
          "Mitel",
          "Apple",
          "SAP",
          "Apache",
          "Microsoft",
          "Palo Alto Netwo",
          "Paessler",
          "Microsoft",
          "Hitachi Vantara",
          "Microsoft",
          "BeyondTrust",
          "Mitel",
          "SonicWall",
          "SonicWall",
          "Qlik",
          "SimpleHelp ",
          "Cisco",
          "Cisco",
          "SonicWall",
          "Apache",
          "Advantive",
          "Oracle",
          "Progress",
          "Microsoft",
          "Sophos",
          "Synacor",
          "reviewdog",
          "tj-actions",
          "Apple",
          "",
          "",
          "",
          "",
          "",
          "",
          "",
          "",
          "",
          "",
          "",
          "",
          "",
          "",
          "",
          "",
          "",
          "",
          "",
          "",
          "",
          "",
          "",
          "",
          "",
          "",
          "",
          "",
          "",
          "",
          "",
          "",
          "",
          "",
          "",
          "",
          "",
          "",
          ""
         ],
         "textfont": {
          "color": "white",
          "size": 16
         },
         "texttemplate": "%{label}<br> %{value}",
         "type": "treemap",
         "values": [
          1,
          1,
          1,
          1,
          2,
          1,
          1,
          1,
          1,
          2,
          1,
          1,
          1,
          1,
          2,
          1,
          1,
          1,
          1,
          3,
          2,
          1,
          1,
          1,
          4,
          2,
          4,
          1,
          1,
          1,
          2,
          2,
          1,
          2,
          1,
          1,
          1,
          1,
          1,
          1,
          1,
          1,
          1,
          1,
          1,
          2,
          1,
          1,
          14,
          1,
          1,
          1,
          1,
          1,
          1,
          1,
          2,
          2,
          5,
          1,
          1,
          1,
          2,
          1,
          1,
          1,
          2,
          1,
          1,
          2,
          5,
          1,
          1,
          4,
          18,
          3,
          1,
          2,
          2,
          2,
          1,
          1,
          1,
          1,
          2,
          3,
          2,
          1,
          1,
          3,
          2,
          1,
          1
         ]
        }
       ],
       "layout": {
        "coloraxis": {
         "colorbar": {
          "title": {
           "text": "Counts"
          }
         },
         "colorscale": [
          [
           0,
           "#440154"
          ],
          [
           0.1111111111111111,
           "#482878"
          ],
          [
           0.2222222222222222,
           "#3e4989"
          ],
          [
           0.3333333333333333,
           "#31688e"
          ],
          [
           0.4444444444444444,
           "#26828e"
          ],
          [
           0.5555555555555556,
           "#1f9e89"
          ],
          [
           0.6666666666666666,
           "#35b779"
          ],
          [
           0.7777777777777778,
           "#6ece58"
          ],
          [
           0.8888888888888888,
           "#b5de2b"
          ],
          [
           1,
           "#fde725"
          ]
         ],
         "showscale": false
        },
        "height": 1000,
        "legend": {
         "tracegroupgap": 0
        },
        "margin": {
         "b": 25,
         "l": 25,
         "r": 25,
         "t": 50
        },
        "paper_bgcolor": "black",
        "plot_bgcolor": "black",
        "template": {
         "data": {
          "bar": [
           {
            "error_x": {
             "color": "#2a3f5f"
            },
            "error_y": {
             "color": "#2a3f5f"
            },
            "marker": {
             "line": {
              "color": "#E5ECF6",
              "width": 0.5
             },
             "pattern": {
              "fillmode": "overlay",
              "size": 10,
              "solidity": 0.2
             }
            },
            "type": "bar"
           }
          ],
          "barpolar": [
           {
            "marker": {
             "line": {
              "color": "#E5ECF6",
              "width": 0.5
             },
             "pattern": {
              "fillmode": "overlay",
              "size": 10,
              "solidity": 0.2
             }
            },
            "type": "barpolar"
           }
          ],
          "carpet": [
           {
            "aaxis": {
             "endlinecolor": "#2a3f5f",
             "gridcolor": "white",
             "linecolor": "white",
             "minorgridcolor": "white",
             "startlinecolor": "#2a3f5f"
            },
            "baxis": {
             "endlinecolor": "#2a3f5f",
             "gridcolor": "white",
             "linecolor": "white",
             "minorgridcolor": "white",
             "startlinecolor": "#2a3f5f"
            },
            "type": "carpet"
           }
          ],
          "choropleth": [
           {
            "colorbar": {
             "outlinewidth": 0,
             "ticks": ""
            },
            "type": "choropleth"
           }
          ],
          "contour": [
           {
            "colorbar": {
             "outlinewidth": 0,
             "ticks": ""
            },
            "colorscale": [
             [
              0,
              "#0d0887"
             ],
             [
              0.1111111111111111,
              "#46039f"
             ],
             [
              0.2222222222222222,
              "#7201a8"
             ],
             [
              0.3333333333333333,
              "#9c179e"
             ],
             [
              0.4444444444444444,
              "#bd3786"
             ],
             [
              0.5555555555555556,
              "#d8576b"
             ],
             [
              0.6666666666666666,
              "#ed7953"
             ],
             [
              0.7777777777777778,
              "#fb9f3a"
             ],
             [
              0.8888888888888888,
              "#fdca26"
             ],
             [
              1,
              "#f0f921"
             ]
            ],
            "type": "contour"
           }
          ],
          "contourcarpet": [
           {
            "colorbar": {
             "outlinewidth": 0,
             "ticks": ""
            },
            "type": "contourcarpet"
           }
          ],
          "heatmap": [
           {
            "colorbar": {
             "outlinewidth": 0,
             "ticks": ""
            },
            "colorscale": [
             [
              0,
              "#0d0887"
             ],
             [
              0.1111111111111111,
              "#46039f"
             ],
             [
              0.2222222222222222,
              "#7201a8"
             ],
             [
              0.3333333333333333,
              "#9c179e"
             ],
             [
              0.4444444444444444,
              "#bd3786"
             ],
             [
              0.5555555555555556,
              "#d8576b"
             ],
             [
              0.6666666666666666,
              "#ed7953"
             ],
             [
              0.7777777777777778,
              "#fb9f3a"
             ],
             [
              0.8888888888888888,
              "#fdca26"
             ],
             [
              1,
              "#f0f921"
             ]
            ],
            "type": "heatmap"
           }
          ],
          "heatmapgl": [
           {
            "colorbar": {
             "outlinewidth": 0,
             "ticks": ""
            },
            "colorscale": [
             [
              0,
              "#0d0887"
             ],
             [
              0.1111111111111111,
              "#46039f"
             ],
             [
              0.2222222222222222,
              "#7201a8"
             ],
             [
              0.3333333333333333,
              "#9c179e"
             ],
             [
              0.4444444444444444,
              "#bd3786"
             ],
             [
              0.5555555555555556,
              "#d8576b"
             ],
             [
              0.6666666666666666,
              "#ed7953"
             ],
             [
              0.7777777777777778,
              "#fb9f3a"
             ],
             [
              0.8888888888888888,
              "#fdca26"
             ],
             [
              1,
              "#f0f921"
             ]
            ],
            "type": "heatmapgl"
           }
          ],
          "histogram": [
           {
            "marker": {
             "pattern": {
              "fillmode": "overlay",
              "size": 10,
              "solidity": 0.2
             }
            },
            "type": "histogram"
           }
          ],
          "histogram2d": [
           {
            "colorbar": {
             "outlinewidth": 0,
             "ticks": ""
            },
            "colorscale": [
             [
              0,
              "#0d0887"
             ],
             [
              0.1111111111111111,
              "#46039f"
             ],
             [
              0.2222222222222222,
              "#7201a8"
             ],
             [
              0.3333333333333333,
              "#9c179e"
             ],
             [
              0.4444444444444444,
              "#bd3786"
             ],
             [
              0.5555555555555556,
              "#d8576b"
             ],
             [
              0.6666666666666666,
              "#ed7953"
             ],
             [
              0.7777777777777778,
              "#fb9f3a"
             ],
             [
              0.8888888888888888,
              "#fdca26"
             ],
             [
              1,
              "#f0f921"
             ]
            ],
            "type": "histogram2d"
           }
          ],
          "histogram2dcontour": [
           {
            "colorbar": {
             "outlinewidth": 0,
             "ticks": ""
            },
            "colorscale": [
             [
              0,
              "#0d0887"
             ],
             [
              0.1111111111111111,
              "#46039f"
             ],
             [
              0.2222222222222222,
              "#7201a8"
             ],
             [
              0.3333333333333333,
              "#9c179e"
             ],
             [
              0.4444444444444444,
              "#bd3786"
             ],
             [
              0.5555555555555556,
              "#d8576b"
             ],
             [
              0.6666666666666666,
              "#ed7953"
             ],
             [
              0.7777777777777778,
              "#fb9f3a"
             ],
             [
              0.8888888888888888,
              "#fdca26"
             ],
             [
              1,
              "#f0f921"
             ]
            ],
            "type": "histogram2dcontour"
           }
          ],
          "mesh3d": [
           {
            "colorbar": {
             "outlinewidth": 0,
             "ticks": ""
            },
            "type": "mesh3d"
           }
          ],
          "parcoords": [
           {
            "line": {
             "colorbar": {
              "outlinewidth": 0,
              "ticks": ""
             }
            },
            "type": "parcoords"
           }
          ],
          "pie": [
           {
            "automargin": true,
            "type": "pie"
           }
          ],
          "scatter": [
           {
            "fillpattern": {
             "fillmode": "overlay",
             "size": 10,
             "solidity": 0.2
            },
            "type": "scatter"
           }
          ],
          "scatter3d": [
           {
            "line": {
             "colorbar": {
              "outlinewidth": 0,
              "ticks": ""
             }
            },
            "marker": {
             "colorbar": {
              "outlinewidth": 0,
              "ticks": ""
             }
            },
            "type": "scatter3d"
           }
          ],
          "scattercarpet": [
           {
            "marker": {
             "colorbar": {
              "outlinewidth": 0,
              "ticks": ""
             }
            },
            "type": "scattercarpet"
           }
          ],
          "scattergeo": [
           {
            "marker": {
             "colorbar": {
              "outlinewidth": 0,
              "ticks": ""
             }
            },
            "type": "scattergeo"
           }
          ],
          "scattergl": [
           {
            "marker": {
             "colorbar": {
              "outlinewidth": 0,
              "ticks": ""
             }
            },
            "type": "scattergl"
           }
          ],
          "scattermapbox": [
           {
            "marker": {
             "colorbar": {
              "outlinewidth": 0,
              "ticks": ""
             }
            },
            "type": "scattermapbox"
           }
          ],
          "scatterpolar": [
           {
            "marker": {
             "colorbar": {
              "outlinewidth": 0,
              "ticks": ""
             }
            },
            "type": "scatterpolar"
           }
          ],
          "scatterpolargl": [
           {
            "marker": {
             "colorbar": {
              "outlinewidth": 0,
              "ticks": ""
             }
            },
            "type": "scatterpolargl"
           }
          ],
          "scatterternary": [
           {
            "marker": {
             "colorbar": {
              "outlinewidth": 0,
              "ticks": ""
             }
            },
            "type": "scatterternary"
           }
          ],
          "surface": [
           {
            "colorbar": {
             "outlinewidth": 0,
             "ticks": ""
            },
            "colorscale": [
             [
              0,
              "#0d0887"
             ],
             [
              0.1111111111111111,
              "#46039f"
             ],
             [
              0.2222222222222222,
              "#7201a8"
             ],
             [
              0.3333333333333333,
              "#9c179e"
             ],
             [
              0.4444444444444444,
              "#bd3786"
             ],
             [
              0.5555555555555556,
              "#d8576b"
             ],
             [
              0.6666666666666666,
              "#ed7953"
             ],
             [
              0.7777777777777778,
              "#fb9f3a"
             ],
             [
              0.8888888888888888,
              "#fdca26"
             ],
             [
              1,
              "#f0f921"
             ]
            ],
            "type": "surface"
           }
          ],
          "table": [
           {
            "cells": {
             "fill": {
              "color": "#EBF0F8"
             },
             "line": {
              "color": "white"
             }
            },
            "header": {
             "fill": {
              "color": "#C8D4E3"
             },
             "line": {
              "color": "white"
             }
            },
            "type": "table"
           }
          ]
         },
         "layout": {
          "annotationdefaults": {
           "arrowcolor": "#2a3f5f",
           "arrowhead": 0,
           "arrowwidth": 1
          },
          "autotypenumbers": "strict",
          "coloraxis": {
           "colorbar": {
            "outlinewidth": 0,
            "ticks": ""
           }
          },
          "colorscale": {
           "diverging": [
            [
             0,
             "#8e0152"
            ],
            [
             0.1,
             "#c51b7d"
            ],
            [
             0.2,
             "#de77ae"
            ],
            [
             0.3,
             "#f1b6da"
            ],
            [
             0.4,
             "#fde0ef"
            ],
            [
             0.5,
             "#f7f7f7"
            ],
            [
             0.6,
             "#e6f5d0"
            ],
            [
             0.7,
             "#b8e186"
            ],
            [
             0.8,
             "#7fbc41"
            ],
            [
             0.9,
             "#4d9221"
            ],
            [
             1,
             "#276419"
            ]
           ],
           "sequential": [
            [
             0,
             "#0d0887"
            ],
            [
             0.1111111111111111,
             "#46039f"
            ],
            [
             0.2222222222222222,
             "#7201a8"
            ],
            [
             0.3333333333333333,
             "#9c179e"
            ],
            [
             0.4444444444444444,
             "#bd3786"
            ],
            [
             0.5555555555555556,
             "#d8576b"
            ],
            [
             0.6666666666666666,
             "#ed7953"
            ],
            [
             0.7777777777777778,
             "#fb9f3a"
            ],
            [
             0.8888888888888888,
             "#fdca26"
            ],
            [
             1,
             "#f0f921"
            ]
           ],
           "sequentialminus": [
            [
             0,
             "#0d0887"
            ],
            [
             0.1111111111111111,
             "#46039f"
            ],
            [
             0.2222222222222222,
             "#7201a8"
            ],
            [
             0.3333333333333333,
             "#9c179e"
            ],
            [
             0.4444444444444444,
             "#bd3786"
            ],
            [
             0.5555555555555556,
             "#d8576b"
            ],
            [
             0.6666666666666666,
             "#ed7953"
            ],
            [
             0.7777777777777778,
             "#fb9f3a"
            ],
            [
             0.8888888888888888,
             "#fdca26"
            ],
            [
             1,
             "#f0f921"
            ]
           ]
          },
          "colorway": [
           "#636efa",
           "#EF553B",
           "#00cc96",
           "#ab63fa",
           "#FFA15A",
           "#19d3f3",
           "#FF6692",
           "#B6E880",
           "#FF97FF",
           "#FECB52"
          ],
          "font": {
           "color": "#2a3f5f"
          },
          "geo": {
           "bgcolor": "white",
           "lakecolor": "white",
           "landcolor": "#E5ECF6",
           "showlakes": true,
           "showland": true,
           "subunitcolor": "white"
          },
          "hoverlabel": {
           "align": "left"
          },
          "hovermode": "closest",
          "mapbox": {
           "style": "light"
          },
          "paper_bgcolor": "white",
          "plot_bgcolor": "#E5ECF6",
          "polar": {
           "angularaxis": {
            "gridcolor": "white",
            "linecolor": "white",
            "ticks": ""
           },
           "bgcolor": "#E5ECF6",
           "radialaxis": {
            "gridcolor": "white",
            "linecolor": "white",
            "ticks": ""
           }
          },
          "scene": {
           "xaxis": {
            "backgroundcolor": "#E5ECF6",
            "gridcolor": "white",
            "gridwidth": 2,
            "linecolor": "white",
            "showbackground": true,
            "ticks": "",
            "zerolinecolor": "white"
           },
           "yaxis": {
            "backgroundcolor": "#E5ECF6",
            "gridcolor": "white",
            "gridwidth": 2,
            "linecolor": "white",
            "showbackground": true,
            "ticks": "",
            "zerolinecolor": "white"
           },
           "zaxis": {
            "backgroundcolor": "#E5ECF6",
            "gridcolor": "white",
            "gridwidth": 2,
            "linecolor": "white",
            "showbackground": true,
            "ticks": "",
            "zerolinecolor": "white"
           }
          },
          "shapedefaults": {
           "line": {
            "color": "#2a3f5f"
           }
          },
          "ternary": {
           "aaxis": {
            "gridcolor": "white",
            "linecolor": "white",
            "ticks": ""
           },
           "baxis": {
            "gridcolor": "white",
            "linecolor": "white",
            "ticks": ""
           },
           "bgcolor": "#E5ECF6",
           "caxis": {
            "gridcolor": "white",
            "linecolor": "white",
            "ticks": ""
           }
          },
          "title": {
           "x": 0.05
          },
          "xaxis": {
           "automargin": true,
           "gridcolor": "white",
           "linecolor": "white",
           "ticks": "",
           "title": {
            "standoff": 15
           },
           "zerolinecolor": "white",
           "zerolinewidth": 2
          },
          "yaxis": {
           "automargin": true,
           "gridcolor": "white",
           "linecolor": "white",
           "ticks": "",
           "title": {
            "standoff": 15
           },
           "zerolinecolor": "white",
           "zerolinewidth": 2
          }
         }
        },
        "title": {
         "font": {
          "color": "white",
          "size": 20
         },
         "text": "Known Exploited Vulnerabilities by Vendor and Product - 2025 CISA Entries (Source: CISA KEV)",
         "x": 0.5
        },
        "width": 1800
       }
      }
     },
     "metadata": {},
     "output_type": "display_data"
    }
   ],
   "source": [
    "df = df_original.copy()\n",
    "\n",
    "# Step 2: Convert 'CISA Date Added' to datetime format with a specified format\n",
    "# Replace '%Y-%m-%d' with the actual format of your dates if different\n",
    "df['CISA Date Added'] = pd.to_datetime(df['CISA Date Added'], format='%Y-%m-%d', errors='coerce')\n",
    "\n",
    "# Step 3: Drop rows where 'CISA Date Added' could not be parsed\n",
    "df.dropna(subset=['CISA Date Added'], inplace=True)\n",
    "\n",
    "# Step 4: Filter for entries where 'CISA Date Added' is from this year\n",
    "filtered_data = df[df['CISA Date Added'].dt.year == YEAR]\n",
    "\n",
    "# Step 5: Count occurrences by Vendor and Product for entries with CISA Date Added in this year\n",
    "vendor_product_counts = filtered_data.groupby(['Vendor', 'Product']).size().reset_index(name='Counts')\n",
    "\n",
    "# Truncate vendor and product names to 15 characters for readability\n",
    "vendor_product_counts['Vendor'] = vendor_product_counts['Vendor'].str.slice(0, 15)\n",
    "vendor_product_counts['Product'] = vendor_product_counts['Product'].str.slice(0, 15)\n",
    "\n",
    "\n",
    "# Create a treemap with both Vendor and Product levels\n",
    "fig = px.treemap(vendor_product_counts, path=['Vendor', 'Product'], values='Counts', \n",
    "                 color='Counts', color_continuous_scale='Viridis')\n",
    "\n",
    "# Customize the title and layout for dark mode with specific width and height\n",
    "fig.update_layout(\n",
    "    title=f\"Known Exploited Vulnerabilities by Vendor and Product - {YEAR} CISA Entries (Source: CISA KEV)\",\n",
    "    title_font=dict(size=20, color='white'),\n",
    "    title_x=0.5,\n",
    "    paper_bgcolor='black',\n",
    "    plot_bgcolor='black',\n",
    "    margin=dict(t=50, l=25, r=25, b=25),\n",
    "    width=1800,\n",
    "    height=1000\n",
    ")\n",
    "\n",
    "# Remove color bar by setting coloraxis_showscale to False\n",
    "fig.update_coloraxes(showscale=False)\n",
    "\n",
    "# Use default font for labels inside the treemap (Arial) by removing custom font settings\n",
    "fig.update_traces(\n",
    "    texttemplate='%{label}<br> %{value}', \n",
    "    textfont_size=16,  # Font size for readability\n",
    "    textfont_color='white'  # Font color\n",
    ")\n",
    "\n",
    "# Display the figure\n",
    "fig.show()"
   ]
  },
  {
   "cell_type": "markdown",
   "metadata": {},
   "source": [
    "## 2025 Known Exploited Vulnerabilities by Day - Year-to-Date (Source:Vulncheck KEV)"
   ]
  },
  {
   "cell_type": "code",
   "execution_count": 23,
   "metadata": {
    "execution": {
     "iopub.execute_input": "2025-04-25T12:09:21.218636Z",
     "iopub.status.busy": "2025-04-25T12:09:21.218291Z",
     "iopub.status.idle": "2025-04-25T12:09:21.618052Z",
     "shell.execute_reply": "2025-04-25T12:09:21.617349Z"
    }
   },
   "outputs": [
    {
     "data": {
      "image/png": "[encoded data removed]",
      "text/plain": [
       "<Figure size 2500x1000 with 1 Axes>"
      ]
     },
     "metadata": {},
     "output_type": "display_data"
    }
   ],
   "source": [
    "df = df_original.copy()\n",
    "\n",
    "# Title text\n",
    "title_text = f\"First Seen Exploitation Evidence per Unique CVE in {YEAR} (Source: VulnCheck KEV)\"\n",
    "\n",
    "# Step 1: Convert 'Date Added' to datetime format, handling errors\n",
    "df['Date Added'] = pd.to_datetime(df['Date Added'], errors='coerce')\n",
    "\n",
    "# Step 2: Drop rows where 'Date Added' could not be parsed\n",
    "df = df.dropna(subset=['Date Added'])\n",
    "\n",
    "# Step 3: Filter for entries where 'Date Added' is from this year\n",
    "df_filtered = df[df['Date Added'].dt.year.isin([YEAR])]\n",
    "\n",
    "# Step 4: Count occurrences of each 'Date Added' date\n",
    "date_counts = df_filtered['Date Added'].value_counts().sort_index()\n",
    "\n",
    "# Step 5: Convert the counts to a DataFrame for plotting\n",
    "date_counts_df = date_counts.to_frame(name='Counts')\n",
    "\n",
    "# Step 6: Set a continuous date range from Jan 1 to Dev 31\n",
    "full_date_range = pd.date_range(start=f\"{YEAR}-01-01\", end=f\"{YEAR}-12-31\")\n",
    "\n",
    "# Step 7: Reindex the DataFrame with the full date range, filling missing dates with zero counts\n",
    "date_counts_df = date_counts_df.reindex(full_date_range, fill_value=0)\n",
    "\n",
    "# Step 8: Plot the calendar heatmap for each year from this year using calplot\n",
    "fig, ax = calplot.calplot(\n",
    "    date_counts_df['Counts'],\n",
    "    cmap='viridis',\n",
    "    vmin=0,\n",
    "    vmax=date_counts_df['Counts'].max(),\n",
    "    colorbar=False,\n",
    "    dropzero=True,\n",
    "    edgecolor=\"black\",\n",
    "    textcolor=\"white\",\n",
    "    textformat='{:.0f}',\n",
    "    figsize=(25, 10),\n",
    "    yearascending=False,\n",
    "    yearlabel_kws={'fontname':'sans-serif'}\n",
    ")\n",
    "\n",
    "# Set the figure and axes background to black\n",
    "fig.patch.set_facecolor('black')\n",
    "for a in ax:\n",
    "    a.set_facecolor('black')\n",
    "\n",
    "# Modify the month and day labels to be white\n",
    "for a in ax:\n",
    "    # Set month labels to white\n",
    "    for label in a.get_xticklabels():\n",
    "        label.set_color(\"white\")\n",
    "        label.set_fontsize(12)\n",
    "        label.set_fontfamily('sans-serif')\n",
    "    # Set day labels to white\n",
    "    for label in a.get_yticklabels():\n",
    "        label.set_color(\"white\")\n",
    "        label.set_fontsize(10)\n",
    "        label.set_fontfamily('sans-serif')\n",
    "\n",
    "# Manually add black borders around each day cell\n",
    "for a in ax:\n",
    "    for collection in a.collections:\n",
    "        collection.set_edgecolor(\"black\") \n",
    "        collection.set_linewidth(0.5)\n",
    "\n",
    "plt.show()\n"
   ]
  },
  {
   "cell_type": "markdown",
   "metadata": {},
   "source": [
    "## 2025 Known Exploited Vulnerabilities by Day - Year-to-Date (Source:CISA KEV)"
   ]
  },
  {
   "cell_type": "code",
   "execution_count": 24,
   "metadata": {
    "execution": {
     "iopub.execute_input": "2025-04-25T12:09:21.620421Z",
     "iopub.status.busy": "2025-04-25T12:09:21.620161Z",
     "iopub.status.idle": "2025-04-25T12:09:22.128314Z",
     "shell.execute_reply": "2025-04-25T12:09:22.127716Z"
    }
   },
   "outputs": [
    {
     "data": {
      "image/png": "[encoded data removed]",
      "text/plain": [
       "<Figure size 2500x1000 with 1 Axes>"
      ]
     },
     "metadata": {},
     "output_type": "display_data"
    }
   ],
   "source": [
    "df = df_original.copy()\n",
    "\n",
    "# Title text\n",
    "title_text = f\"CISA KEV Added Date per Unique CVE in {YEAR} (Source: CISA KEV)\"\n",
    "\n",
    "# Step 1: Convert 'CISA Date Added' to datetime format, handling errors\n",
    "df['CISA Date Added'] = pd.to_datetime(df['CISA Date Added'], errors='coerce', format='mixed')\n",
    "\n",
    "# Step 2: Drop rows where 'CISA Date Added' could not be parsed\n",
    "df.dropna(subset=['CISA Date Added'], inplace=True)\n",
    "\n",
    "# Step 3: Filter for entries where 'CISA Date Added' is from the current year\n",
    "df_filtered = df[df['CISA Date Added'].dt.year == YEAR]\n",
    "\n",
    "# Step 4: Count occurrences of each 'CISA Date Added' date\n",
    "date_counts = df_filtered['CISA Date Added'].value_counts().sort_index()\n",
    "\n",
    "# Step 5: Convert the counts to a DataFrame for plotting\n",
    "date_counts_df = date_counts.to_frame(name='Counts')\n",
    "\n",
    "# Step 6: Set a continuous date range from Jan 1 to Dev 31\n",
    "full_date_range = pd.date_range(start=f\"{YEAR}-01-01\", end=f\"{YEAR}-12-31\")\n",
    "\n",
    "# Step 7: Reindex the DataFrame with the full date range, filling missing dates with zero counts\n",
    "date_counts_df = date_counts_df.reindex(full_date_range, fill_value=0)\n",
    "\n",
    "fig, ax = calplot.calplot(\n",
    "    date_counts_df['Counts'],\n",
    "    cmap='viridis',\n",
    "    vmin=0,\n",
    "    vmax=date_counts_df['Counts'].max(),\n",
    "    colorbar=False,\n",
    "    dropzero=True,\n",
    "    edgecolor=\"black\",\n",
    "    textcolor=\"white\",\n",
    "    textformat='{:.0f}',\n",
    "    figsize=(25, 10),\n",
    "    yearascending=False,\n",
    "    yearlabel_kws={'fontname':'sans-serif'}\n",
    ")\n",
    "\n",
    "# Set the figure and axes background to black\n",
    "fig.patch.set_facecolor('black')\n",
    "for a in ax:\n",
    "    a.set_facecolor('black')\n",
    "\n",
    "# Modify the month and day labels to be white\n",
    "for a in ax:\n",
    "    # Set month labels to white\n",
    "    for label in a.get_xticklabels():\n",
    "        label.set_color(\"white\")\n",
    "        label.set_fontsize(12)\n",
    "        label.set_fontfamily('sans-serif')\n",
    "    # Set day labels to white\n",
    "    for label in a.get_yticklabels():\n",
    "        label.set_color(\"white\")\n",
    "        label.set_fontsize(10)\n",
    "        label.set_fontfamily('sans-serif')\n",
    "\n",
    "# Manually add black borders around each day cell\n",
    "for a in ax:\n",
    "    for collection in a.collections:\n",
    "        collection.set_edgecolor(\"black\")\n",
    "        collection.set_linewidth(0.5)\n",
    "\n",
    "plt.show()\n"
   ]
  },
  {
   "cell_type": "markdown",
   "metadata": {},
   "source": [
    "## Exploitation Evidence Availability Before CISA KEV"
   ]
  },
  {
   "cell_type": "code",
   "execution_count": 25,
   "metadata": {
    "execution": {
     "iopub.execute_input": "2025-04-25T12:09:22.130300Z",
     "iopub.status.busy": "2025-04-25T12:09:22.130107Z",
     "iopub.status.idle": "2025-04-25T12:09:22.343809Z",
     "shell.execute_reply": "2025-04-25T12:09:22.343203Z"
    }
   },
   "outputs": [
    {
     "data": {
      "image/png": "[encoded data removed]",
      "text/plain": [
       "<Figure size 1200x800 with 1 Axes>"
      ]
     },
     "metadata": {},
     "output_type": "display_data"
    }
   ],
   "source": [
    "df = df_original.copy()\n",
    "\n",
    "# Ensure 'Date Added' and 'CISA Date Added' are in datetime format\n",
    "df['Date Added'] = pd.to_datetime(df['Date Added'], errors='coerce', format='mixed')\n",
    "df['CISA Date Added'] = pd.to_datetime(df['CISA Date Added'], errors='coerce', format='mixed')\n",
    "\n",
    "# Calculate 'Days Between' as the difference in days\n",
    "df['Days Between'] = df.apply(\n",
    "    lambda row: (row['CISA Date Added'] - row['Date Added']).days if pd.notnull(row['CISA Date Added']) else \"none\",\n",
    "    axis=1\n",
    ")\n",
    "\n",
    "# Define the function to categorize the time intervals based on 'Days Between'\n",
    "def categorize_time(days):\n",
    "    if days == \"none\":\n",
    "        return \"none\"\n",
    "    elif days >= 1460:\n",
    "        return '4+ years'\n",
    "    elif 730 <= days < 1460:\n",
    "        return '2+ years'\n",
    "    elif 365 <= days < 730:\n",
    "        return '1+ Years'\n",
    "    elif 31 <= days < 365:\n",
    "        return '1+ Months'\n",
    "    elif 7 <= days < 31:\n",
    "        return '1+ Weeks'\n",
    "    elif 1 <= days < 7:\n",
    "        return '1+ Days'\n",
    "    elif days == 0:\n",
    "        return 'Same Day'\n",
    "    else:\n",
    "        return \"none\"  # Catch any unexpected cases\n",
    "\n",
    "# Apply the categorization function to create the 'Time' column\n",
    "df['Time'] = df['Days Between'].apply(categorize_time)\n",
    "\n",
    "# Group by 'Time' and count occurrences to get the number of CVEs in each time bucket\n",
    "df_time_counts = df.groupby('Time').size().reindex(\n",
    "    ['4+ years', '2+ years', '1+ Years', '1+ Months', '1+ Weeks', '1+ Days', 'Same Day'], fill_value=0\n",
    ").reset_index(name='CVEs')\n",
    "\n",
    "# Calculate cumulative values and cumulative percentages for the waterfall chart\n",
    "df_time_counts['Cumulative'] = df_time_counts['CVEs'].cumsum()\n",
    "total_CVEs = df_time_counts['CVEs'].sum()\n",
    "df_time_counts['Cumulative %'] = (df_time_counts['Cumulative'] / total_CVEs) * 100\n",
    "\n",
    "# Define custom colors for dark mode\n",
    "custom_color = '#440154'\n",
    "text_color = 'white'\n",
    "line_color = '#aaaaaa'\n",
    "\n",
    "# Set dark background\n",
    "plt.style.use('dark_background')\n",
    "\n",
    "# Plotting the horizontal waterfall chart with cumulative percentages\n",
    "fig, ax = plt.subplots(figsize=(12, 8), facecolor='black')\n",
    "fig.patch.set_facecolor('black')\n",
    "\n",
    "# Calculate bottom positions for the bars\n",
    "bottom_positions = df_time_counts['Cumulative'].shift(1).fillna(0)\n",
    "\n",
    "# Plotting each bar with a lighter color\n",
    "ax.bar(df_time_counts['Time'], df_time_counts['CVEs'], bottom=bottom_positions, color=custom_color, edgecolor='lightgray')\n",
    "\n",
    "# Add thicker horizontal lines at the tops of the bars to connect them\n",
    "for i in range(1, len(df_time_counts)):\n",
    "    x1 = i - 1\n",
    "    x2 = i\n",
    "    y = bottom_positions.iloc[i-1] + df_time_counts['CVEs'].iloc[i-1]\n",
    "    \n",
    "    # Draw the connecting horizontal line with increased thickness\n",
    "    ax.plot([x1, x2], [y, y], color='lightgray', linewidth=1)\n",
    "\n",
    "# Annotate each bar with its value and cumulative percentage\n",
    "for i, (time, cves, cum, cum_pct) in enumerate(zip(df_time_counts['Time'], df_time_counts['CVEs'], df_time_counts['Cumulative'], df_time_counts['Cumulative %'])):\n",
    "    ax.text(i, cum - cves / 2, f'{cves}', ha='center', va='center', color=text_color, fontsize=12, fontweight='bold')\n",
    "    ax.text(i, cum + 5, f'{cum_pct:.1f}%', ha='center', va='bottom', color=text_color, fontsize=12, fontweight='bold')\n",
    "\n",
    "# Set title and labels in light color\n",
    "ax.set_title('Exploitation Evidence Availability Before CISA KEV', fontsize=16, color=text_color)\n",
    "ax.set_xlabel('Time Between Exploitation Evidence Availability and CISA KEV Inclusion', fontsize=14, color=text_color)\n",
    "ax.set_ylabel('Number of CVEs / Coverage %', fontsize=14, color=text_color)\n",
    "\n",
    "# Set x and y axis colors to light gray\n",
    "ax.tick_params(colors=line_color)\n",
    "ax.spines['bottom'].set_color(line_color)\n",
    "ax.spines['left'].set_color(line_color)\n",
    "\n",
    "ax.text(\n",
    "    1, -0.17,\n",
    "    'Source: VulnCheck KEV',\n",
    "    ha='right', va='top',\n",
    "    color=text_color,\n",
    "    fontsize=10,\n",
    "    fontweight='bold',\n",
    "    transform=ax.transAxes\n",
    ")\n",
    "\n",
    "plt.xticks(rotation=45, color=text_color)\n",
    "plt.yticks(color=text_color)\n",
    "plt.tight_layout()\n",
    "plt.show()\n"
   ]
  }
 ],
 "metadata": {
  "kernelspec": {
   "display_name": ".venv",
   "language": "python",
   "name": "python3"
  },
  "language_info": {
   "codemirror_mode": {
    "name": "ipython",
    "version": 3
   },
   "file_extension": ".py",
   "mimetype": "text/x-python",
   "name": "python",
   "nbconvert_exporter": "python",
   "pygments_lexer": "ipython3",
   "version": "3.12.10"
  }
 },
 "nbformat": 4,
 "nbformat_minor": 2
}
